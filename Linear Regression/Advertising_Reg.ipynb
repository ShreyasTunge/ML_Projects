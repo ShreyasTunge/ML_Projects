{
 "cells": [
  {
   "cell_type": "code",
   "execution_count": 1,
   "id": "1157c36c",
   "metadata": {},
   "outputs": [],
   "source": [
    "import pandas as pd\n",
    "import numpy as np\n",
    "import matplotlib.pyplot as plt\n",
    "import seaborn as sns"
   ]
  },
  {
   "cell_type": "code",
   "execution_count": 2,
   "id": "a15b003e",
   "metadata": {},
   "outputs": [
    {
     "data": {
      "text/html": [
       "<div>\n",
       "<style scoped>\n",
       "    .dataframe tbody tr th:only-of-type {\n",
       "        vertical-align: middle;\n",
       "    }\n",
       "\n",
       "    .dataframe tbody tr th {\n",
       "        vertical-align: top;\n",
       "    }\n",
       "\n",
       "    .dataframe thead th {\n",
       "        text-align: right;\n",
       "    }\n",
       "</style>\n",
       "<table border=\"1\" class=\"dataframe\">\n",
       "  <thead>\n",
       "    <tr style=\"text-align: right;\">\n",
       "      <th></th>\n",
       "      <th>TV</th>\n",
       "      <th>radio</th>\n",
       "      <th>newspaper</th>\n",
       "      <th>sales</th>\n",
       "    </tr>\n",
       "  </thead>\n",
       "  <tbody>\n",
       "    <tr>\n",
       "      <th>1</th>\n",
       "      <td>230.1</td>\n",
       "      <td>37.8</td>\n",
       "      <td>69.2</td>\n",
       "      <td>22.1</td>\n",
       "    </tr>\n",
       "    <tr>\n",
       "      <th>2</th>\n",
       "      <td>44.5</td>\n",
       "      <td>39.3</td>\n",
       "      <td>45.1</td>\n",
       "      <td>10.4</td>\n",
       "    </tr>\n",
       "    <tr>\n",
       "      <th>3</th>\n",
       "      <td>17.2</td>\n",
       "      <td>45.9</td>\n",
       "      <td>69.3</td>\n",
       "      <td>9.3</td>\n",
       "    </tr>\n",
       "    <tr>\n",
       "      <th>4</th>\n",
       "      <td>151.5</td>\n",
       "      <td>41.3</td>\n",
       "      <td>58.5</td>\n",
       "      <td>18.5</td>\n",
       "    </tr>\n",
       "    <tr>\n",
       "      <th>5</th>\n",
       "      <td>180.8</td>\n",
       "      <td>10.8</td>\n",
       "      <td>58.4</td>\n",
       "      <td>12.9</td>\n",
       "    </tr>\n",
       "    <tr>\n",
       "      <th>6</th>\n",
       "      <td>8.7</td>\n",
       "      <td>48.9</td>\n",
       "      <td>75.0</td>\n",
       "      <td>7.2</td>\n",
       "    </tr>\n",
       "    <tr>\n",
       "      <th>7</th>\n",
       "      <td>57.5</td>\n",
       "      <td>32.8</td>\n",
       "      <td>23.5</td>\n",
       "      <td>11.8</td>\n",
       "    </tr>\n",
       "    <tr>\n",
       "      <th>8</th>\n",
       "      <td>120.2</td>\n",
       "      <td>19.6</td>\n",
       "      <td>11.6</td>\n",
       "      <td>13.2</td>\n",
       "    </tr>\n",
       "    <tr>\n",
       "      <th>9</th>\n",
       "      <td>8.6</td>\n",
       "      <td>2.1</td>\n",
       "      <td>1.0</td>\n",
       "      <td>4.8</td>\n",
       "    </tr>\n",
       "    <tr>\n",
       "      <th>10</th>\n",
       "      <td>199.8</td>\n",
       "      <td>2.6</td>\n",
       "      <td>21.2</td>\n",
       "      <td>10.6</td>\n",
       "    </tr>\n",
       "  </tbody>\n",
       "</table>\n",
       "</div>"
      ],
      "text/plain": [
       "       TV  radio  newspaper  sales\n",
       "1   230.1   37.8       69.2   22.1\n",
       "2    44.5   39.3       45.1   10.4\n",
       "3    17.2   45.9       69.3    9.3\n",
       "4   151.5   41.3       58.5   18.5\n",
       "5   180.8   10.8       58.4   12.9\n",
       "6     8.7   48.9       75.0    7.2\n",
       "7    57.5   32.8       23.5   11.8\n",
       "8   120.2   19.6       11.6   13.2\n",
       "9     8.6    2.1        1.0    4.8\n",
       "10  199.8    2.6       21.2   10.6"
      ]
     },
     "execution_count": 2,
     "metadata": {},
     "output_type": "execute_result"
    }
   ],
   "source": [
    "data=pd.read_csv(r'Advertising.csv',index_col=0,header=0)\n",
    "data.head(10)"
   ]
  },
  {
   "cell_type": "code",
   "execution_count": 3,
   "id": "957ca43c",
   "metadata": {},
   "outputs": [
    {
     "name": "stdout",
     "output_type": "stream",
     "text": [
      "TV           float64\n",
      "radio        float64\n",
      "newspaper    float64\n",
      "sales        float64\n",
      "dtype: object\n",
      "(200, 4)\n",
      "               TV       radio   newspaper       sales\n",
      "count  200.000000  200.000000  200.000000  200.000000\n",
      "mean   147.042500   23.264000   30.554000   14.022500\n",
      "std     85.854236   14.846809   21.778621    5.217457\n",
      "min      0.700000    0.000000    0.300000    1.600000\n",
      "25%     74.375000    9.975000   12.750000   10.375000\n",
      "50%    149.750000   22.900000   25.750000   12.900000\n",
      "75%    218.825000   36.525000   45.100000   17.400000\n",
      "max    296.400000   49.600000  114.000000   27.000000\n"
     ]
    }
   ],
   "source": [
    "print(data.dtypes)\n",
    "print(data.shape)\n",
    "print(data.describe())"
   ]
  },
  {
   "cell_type": "code",
   "execution_count": 4,
   "id": "ae1b89a3",
   "metadata": {},
   "outputs": [
    {
     "data": {
      "text/plain": [
       "TV           0\n",
       "radio        0\n",
       "newspaper    0\n",
       "sales        0\n",
       "dtype: int64"
      ]
     },
     "execution_count": 4,
     "metadata": {},
     "output_type": "execute_result"
    }
   ],
   "source": [
    "data.isnull().sum()"
   ]
  },
  {
   "cell_type": "code",
   "execution_count": 5,
   "id": "f89055f6",
   "metadata": {},
   "outputs": [
    {
     "data": {
      "image/png": "[encoded data removed]",
      "text/plain": [
       "<Figure size 432x288 with 1 Axes>"
      ]
     },
     "metadata": {
      "needs_background": "light"
     },
     "output_type": "display_data"
    },
    {
     "data": {
      "image/png": "[encoded data removed]",
      "text/plain": [
       "<Figure size 432x288 with 1 Axes>"
      ]
     },
     "metadata": {
      "needs_background": "light"
     },
     "output_type": "display_data"
    },
    {
     "data": {
      "image/png": "[encoded data removed]",
      "text/plain": [
       "<Figure size 432x288 with 1 Axes>"
      ]
     },
     "metadata": {
      "needs_background": "light"
     },
     "output_type": "display_data"
    },
    {
     "data": {
      "image/png": "[encoded data removed]",
      "text/plain": [
       "<Figure size 432x288 with 1 Axes>"
      ]
     },
     "metadata": {
      "needs_background": "light"
     },
     "output_type": "display_data"
    }
   ],
   "source": [
    "#Assumption 1: There shuld be no outliers in the data.\n",
    "#Check using boxplot.\n",
    "for i in data.columns:\n",
    "    data.boxplot(column=i)\n",
    "    plt.show()\n",
    "\n",
    "#If there are extreme outliers in any variables we can either treat, eliminate or go ahead with it"
   ]
  },
  {
   "cell_type": "code",
   "execution_count": 6,
   "id": "382a44ed",
   "metadata": {},
   "outputs": [
    {
     "data": {
      "text/plain": [
       "<seaborn.axisgrid.PairGrid at 0x181ba955310>"
      ]
     },
     "execution_count": 6,
     "metadata": {},
     "output_type": "execute_result"
    },
    {
     "data": {
      "image/png": "[encoded data removed]",
      "text/plain": [
       "<Figure size 864x288 with 3 Axes>"
      ]
     },
     "metadata": {
      "needs_background": "light"
     },
     "output_type": "display_data"
    }
   ],
   "source": [
    "#Assumption 2:Assumption of Linearity:Every ind var should have a linear relationship with the dep var.\n",
    "\n",
    "sns.pairplot(data,x_vars=['TV','radio','newspaper'],\n",
    "            y_vars='sales',kind='reg',height=4)\n",
    "\n",
    "#If we find no linear relation in the independent and dependent variables then switch to other technique"
   ]
  },
  {
   "cell_type": "code",
   "execution_count": 7,
   "id": "6b247d32",
   "metadata": {},
   "outputs": [],
   "source": [
    "#data.drop(['newspaper'],axis=1,inplace=True)"
   ]
  },
  {
   "cell_type": "code",
   "execution_count": 8,
   "id": "ab598677",
   "metadata": {},
   "outputs": [
    {
     "data": {
      "text/plain": [
       "Index(['TV', 'radio', 'newspaper', 'sales'], dtype='object')"
      ]
     },
     "execution_count": 8,
     "metadata": {},
     "output_type": "execute_result"
    }
   ],
   "source": [
    "data.columns"
   ]
  },
  {
   "cell_type": "code",
   "execution_count": 9,
   "id": "23384938",
   "metadata": {},
   "outputs": [],
   "source": [
    "# create X and Y\n",
    "X = data[['TV', 'radio', 'newspaper']]\n",
    "Y = data['sales']\n",
    "#X=data.iloc[:,0:-1]\n",
    "#Y=data.iloc[:,-1]"
   ]
  },
  {
   "cell_type": "code",
   "execution_count": 10,
   "id": "95f7cd87",
   "metadata": {},
   "outputs": [
    {
     "name": "stdout",
     "output_type": "stream",
     "text": [
      "(200, 3) (200,)\n"
     ]
    }
   ],
   "source": [
    "print(X.shape,Y.shape)"
   ]
  },
  {
   "cell_type": "code",
   "execution_count": 11,
   "id": "e4ca4763",
   "metadata": {},
   "outputs": [],
   "source": [
    "import warnings\n",
    "warnings.filterwarnings(\"ignore\")"
   ]
  },
  {
   "cell_type": "code",
   "execution_count": 12,
   "id": "dbc0acdb",
   "metadata": {},
   "outputs": [
    {
     "data": {
      "text/plain": [
       "<AxesSubplot:xlabel='sales', ylabel='Density'>"
      ]
     },
     "execution_count": 12,
     "metadata": {},
     "output_type": "execute_result"
    },
    {
     "data": {
      "image/png": "[encoded data removed]",
      "text/plain": [
       "<Figure size 432x288 with 1 Axes>"
      ]
     },
     "metadata": {
      "needs_background": "light"
     },
     "output_type": "display_data"
    }
   ],
   "source": [
    "#Assumption of Normality: The dependent variable should follow on approximate normal distribution\n",
    "sns.distplot(Y)"
   ]
  },
  {
   "cell_type": "code",
   "execution_count": 13,
   "id": "bd629493",
   "metadata": {},
   "outputs": [
    {
     "data": {
      "text/plain": [
       "'\\n# Log transformation \\nY_log = np.log()\\n\\nIf the Y does not follow normal distriution then perform log transformation\\n'"
      ]
     },
     "execution_count": 13,
     "metadata": {},
     "output_type": "execute_result"
    }
   ],
   "source": [
    "\"\"\"\n",
    "# Log transformation \n",
    "Y_log = np.log()\n",
    "\n",
    "If the Y does not follow normal distriution then perform log transformation\n",
    "\"\"\""
   ]
  },
  {
   "cell_type": "code",
   "execution_count": 14,
   "id": "ac98de04",
   "metadata": {},
   "outputs": [],
   "source": [
    "#sns.distplot(Y_Log,hist=True)"
   ]
  },
  {
   "cell_type": "code",
   "execution_count": 15,
   "id": "2c84f956",
   "metadata": {},
   "outputs": [
    {
     "data": {
      "text/plain": [
       "array([[<AxesSubplot:title={'center':'TV'}>,\n",
       "        <AxesSubplot:title={'center':'radio'}>],\n",
       "       [<AxesSubplot:title={'center':'newspaper'}>, <AxesSubplot:>]],\n",
       "      dtype=object)"
      ]
     },
     "execution_count": 15,
     "metadata": {},
     "output_type": "execute_result"
    },
    {
     "data": {
      "image/png": "[encoded data removed]",
      "text/plain": [
       "<Figure size 432x288 with 4 Axes>"
      ]
     },
     "metadata": {
      "needs_background": "light"
     },
     "output_type": "display_data"
    }
   ],
   "source": [
    "X.hist(bins=20)"
   ]
  },
  {
   "cell_type": "code",
   "execution_count": 16,
   "id": "7a692f77",
   "metadata": {},
   "outputs": [
    {
     "name": "stdout",
     "output_type": "stream",
     "text": [
      "TV          -0.069328\n",
      "radio        0.093467\n",
      "newspaper    0.887996\n",
      "dtype: float64\n",
      "newspaper    0.887996\n",
      "dtype: float64\n"
     ]
    }
   ],
   "source": [
    "from scipy.stats import skew\n",
    "#finding the skewness in each variable\n",
    "data_num_skew = X.apply(lambda i: skew(i.dropna()))\n",
    "#subsetting the variables that are highly skewed\n",
    "data_num_skewed = data_num_skew[(data_num_skew > .75) | (data_num_skew < -.75)]\n",
    " \n",
    "print(data_num_skew)\n",
    "print(data_num_skewed)\n",
    "import numpy as np\n",
    "# apply log + 1 transformation for all numeric features with skewness over .75\n",
    "X[data_num_skewed.index]= np.log1p(X[data_num_skewed.index]) #log1p used to avoid getting infinite value when variable has 0 value"
   ]
  },
  {
   "cell_type": "code",
   "execution_count": 17,
   "id": "f1132a71",
   "metadata": {},
   "outputs": [
    {
     "name": "stdout",
     "output_type": "stream",
     "text": [
      "                 TV     radio  newspaper\n",
      "TV         1.000000  0.054809   0.030951\n",
      "radio      0.054809  1.000000   0.251909\n",
      "newspaper  0.030951  0.251909   1.000000\n"
     ]
    },
    {
     "data": {
      "text/plain": [
       "<AxesSubplot:>"
      ]
     },
     "execution_count": 17,
     "metadata": {},
     "output_type": "execute_result"
    },
    {
     "data": {
      "image/png": "[encoded data removed]",
      "text/plain": [
       "<Figure size 432x288 with 2 Axes>"
      ]
     },
     "metadata": {
      "needs_background": "light"
     },
     "output_type": "display_data"
    }
   ],
   "source": [
    "#Assumption of no multicollinearity: There should be no multicollinearity between the independent variables\n",
    "#Multicollinearity is the relationship amongst the independent variables\n",
    "corr_df=X.corr(method='pearson')\n",
    "print(corr_df)\n",
    "\n",
    "sns.heatmap(corr_df,vmax=1.0,vmin=-1,annot=True)"
   ]
  },
  {
   "cell_type": "code",
   "execution_count": null,
   "id": "fd2a37f2",
   "metadata": {},
   "outputs": [],
   "source": []
  },
  {
   "cell_type": "code",
   "execution_count": 18,
   "id": "447d76ac",
   "metadata": {},
   "outputs": [
    {
     "data": {
      "text/html": [
       "<div>\n",
       "<style scoped>\n",
       "    .dataframe tbody tr th:only-of-type {\n",
       "        vertical-align: middle;\n",
       "    }\n",
       "\n",
       "    .dataframe tbody tr th {\n",
       "        vertical-align: top;\n",
       "    }\n",
       "\n",
       "    .dataframe thead th {\n",
       "        text-align: right;\n",
       "    }\n",
       "</style>\n",
       "<table border=\"1\" class=\"dataframe\">\n",
       "  <thead>\n",
       "    <tr style=\"text-align: right;\">\n",
       "      <th></th>\n",
       "      <th>features</th>\n",
       "      <th>VIF Factor</th>\n",
       "    </tr>\n",
       "  </thead>\n",
       "  <tbody>\n",
       "    <tr>\n",
       "      <th>0</th>\n",
       "      <td>TV</td>\n",
       "      <td>3.39</td>\n",
       "    </tr>\n",
       "    <tr>\n",
       "      <th>1</th>\n",
       "      <td>radio</td>\n",
       "      <td>3.63</td>\n",
       "    </tr>\n",
       "    <tr>\n",
       "      <th>2</th>\n",
       "      <td>newspaper</td>\n",
       "      <td>5.44</td>\n",
       "    </tr>\n",
       "  </tbody>\n",
       "</table>\n",
       "</div>"
      ],
      "text/plain": [
       "    features  VIF Factor\n",
       "0         TV        3.39\n",
       "1      radio        3.63\n",
       "2  newspaper        5.44"
      ]
     },
     "execution_count": 18,
     "metadata": {},
     "output_type": "execute_result"
    }
   ],
   "source": [
    "from statsmodels.stats.outliers_influence import variance_inflation_factor as vif\n",
    " \n",
    "vif_df = pd.DataFrame()\n",
    "vif_df[\"features\"] = X.columns\n",
    "vif_df[\"VIF Factor\"] = [vif(X.values, i) for i in range(X.shape[1])]\n",
    "vif_df.round(2)\n",
    "\n",
    "\n",
    "#X.drop(\"newspaper\",axis=1,inplace=True)\n",
    "#rerun the VIF code"
   ]
  },
  {
   "cell_type": "code",
   "execution_count": 19,
   "id": "ae4913c3",
   "metadata": {},
   "outputs": [],
   "source": [
    "from sklearn.model_selection import train_test_split\n",
    "\n",
    "#Split the data into test and train\n",
    "X_train, X_test, Y_train, Y_test = train_test_split(X, Y, test_size=0.2, random_state=10)\n",
    "\n"
   ]
  },
  {
   "cell_type": "code",
   "execution_count": 20,
   "id": "0ae543d7",
   "metadata": {},
   "outputs": [
    {
     "name": "stdout",
     "output_type": "stream",
     "text": [
      "(160, 3)\n",
      "(160,)\n",
      "(40, 3)\n",
      "(40,)\n",
      "Percent data 80.0\n"
     ]
    }
   ],
   "source": [
    "print(X_train.shape)\n",
    "print(Y_train.shape)\n",
    "print(X_test.shape)\n",
    "print(Y_test.shape)\n",
    "print('Percent data',X_train.shape[0]/X.shape[0]*100)"
   ]
  },
  {
   "cell_type": "code",
   "execution_count": 21,
   "id": "35c19c2c",
   "metadata": {},
   "outputs": [],
   "source": [
    "#>1000--->test_size=0.3\n",
    "#<1000--->test_size=0.2"
   ]
  },
  {
   "cell_type": "code",
   "execution_count": 22,
   "id": "90243fe1",
   "metadata": {},
   "outputs": [
    {
     "name": "stdout",
     "output_type": "stream",
     "text": [
      "3.3532913858151474\n",
      "[ 0.0437425   0.19303708 -0.04895137]\n"
     ]
    }
   ],
   "source": [
    "from sklearn.linear_model import LinearRegression\n",
    "#create a model object\n",
    "lm = LinearRegression()\n",
    "#Train the model object\n",
    "lm.fit(X_train,Y_train)\n",
    "\n",
    "#print intercept and coefficients\n",
    "print(lm.intercept_)\n",
    "print(lm.coef_)"
   ]
  },
  {
   "cell_type": "code",
   "execution_count": 23,
   "id": "09e542e7",
   "metadata": {},
   "outputs": [
    {
     "name": "stdout",
     "output_type": "stream",
     "text": [
      "[('TV', 0.04374250157742166), ('radio', 0.1930370789734531), ('newspaper', -0.048951368222487836)]\n"
     ]
    }
   ],
   "source": [
    "# pair the feature names with the coefficients\n",
    "print(list(zip(X.columns,lm.coef_)))"
   ]
  },
  {
   "cell_type": "code",
   "execution_count": 24,
   "id": "9381ed1b",
   "metadata": {},
   "outputs": [
    {
     "name": "stdout",
     "output_type": "stream",
     "text": [
      "46.33495718050577\n"
     ]
    }
   ],
   "source": [
    "X1=100\n",
    "X2=200\n",
    "X3=np.log1p(0)\n",
    "Y_pred=3.3532913858151474+(0.0437425*X1)+(0.1930370789734531*X2)+(-0.048951368222487836*X3)\n",
    "print(Y_pred)"
   ]
  },
  {
   "cell_type": "code",
   "execution_count": 25,
   "id": "de0076e3",
   "metadata": {},
   "outputs": [
    {
     "name": "stdout",
     "output_type": "stream",
     "text": [
      "[18.15026866 12.96136899 18.05815332 23.66025079 20.68751041 14.26325872\n",
      " 14.92774472 21.38847375 21.14752911 12.75788534 23.99735583  7.20632737\n",
      " 12.30777109 19.22813333 19.41581583 13.44985803 19.62619644  9.24667496\n",
      " 21.1052867  20.87838433 15.52611251 10.91695579 22.82910679 15.82915597\n",
      " 17.40742204  8.17170435 11.88738387 12.69866637 21.71275044  7.94920205\n",
      " 12.49118989 20.43292079  4.71443086  4.72126238 16.7504848  15.74384945\n",
      "  6.74775596 17.73750244  9.01170001 13.60841593]\n"
     ]
    }
   ],
   "source": [
    "#predict using the model \n",
    "Y_pred=lm.predict(X_test)\n",
    "print(Y_pred)"
   ]
  },
  {
   "cell_type": "code",
   "execution_count": 26,
   "id": "873f3fe4",
   "metadata": {},
   "outputs": [],
   "source": [
    "new_df=pd.DataFrame()\n",
    "new_df=X_test.copy()\n",
    "\n",
    "new_df['Actual sales']=Y_test\n",
    "new_df['Predicted sales']=Y_pred\n",
    "new_df=new_df.reset_index()"
   ]
  },
  {
   "cell_type": "code",
   "execution_count": 27,
   "id": "b03bd002",
   "metadata": {},
   "outputs": [
    {
     "data": {
      "text/html": [
       "<div>\n",
       "<style scoped>\n",
       "    .dataframe tbody tr th:only-of-type {\n",
       "        vertical-align: middle;\n",
       "    }\n",
       "\n",
       "    .dataframe tbody tr th {\n",
       "        vertical-align: top;\n",
       "    }\n",
       "\n",
       "    .dataframe thead th {\n",
       "        text-align: right;\n",
       "    }\n",
       "</style>\n",
       "<table border=\"1\" class=\"dataframe\">\n",
       "  <thead>\n",
       "    <tr style=\"text-align: right;\">\n",
       "      <th></th>\n",
       "      <th>index</th>\n",
       "      <th>TV</th>\n",
       "      <th>radio</th>\n",
       "      <th>newspaper</th>\n",
       "      <th>Actual sales</th>\n",
       "      <th>Predicted sales</th>\n",
       "    </tr>\n",
       "  </thead>\n",
       "  <tbody>\n",
       "    <tr>\n",
       "      <th>0</th>\n",
       "      <td>60</td>\n",
       "      <td>210.7</td>\n",
       "      <td>29.5</td>\n",
       "      <td>2.332144</td>\n",
       "      <td>18.4</td>\n",
       "      <td>18.150269</td>\n",
       "    </tr>\n",
       "    <tr>\n",
       "      <th>1</th>\n",
       "      <td>6</td>\n",
       "      <td>8.7</td>\n",
       "      <td>48.9</td>\n",
       "      <td>4.330733</td>\n",
       "      <td>7.2</td>\n",
       "      <td>12.961369</td>\n",
       "    </tr>\n",
       "    <tr>\n",
       "      <th>2</th>\n",
       "      <td>21</td>\n",
       "      <td>218.4</td>\n",
       "      <td>27.7</td>\n",
       "      <td>3.996364</td>\n",
       "      <td>18.0</td>\n",
       "      <td>18.058153</td>\n",
       "    </tr>\n",
       "    <tr>\n",
       "      <th>3</th>\n",
       "      <td>199</td>\n",
       "      <td>283.6</td>\n",
       "      <td>42.0</td>\n",
       "      <td>4.207673</td>\n",
       "      <td>25.5</td>\n",
       "      <td>23.660251</td>\n",
       "    </tr>\n",
       "    <tr>\n",
       "      <th>4</th>\n",
       "      <td>53</td>\n",
       "      <td>216.4</td>\n",
       "      <td>41.7</td>\n",
       "      <td>3.703768</td>\n",
       "      <td>22.6</td>\n",
       "      <td>20.687510</td>\n",
       "    </tr>\n",
       "    <tr>\n",
       "      <th>5</th>\n",
       "      <td>20</td>\n",
       "      <td>147.3</td>\n",
       "      <td>23.9</td>\n",
       "      <td>3.000720</td>\n",
       "      <td>14.6</td>\n",
       "      <td>14.263259</td>\n",
       "    </tr>\n",
       "    <tr>\n",
       "      <th>6</th>\n",
       "      <td>163</td>\n",
       "      <td>188.4</td>\n",
       "      <td>18.1</td>\n",
       "      <td>3.280911</td>\n",
       "      <td>14.9</td>\n",
       "      <td>14.927745</td>\n",
       "    </tr>\n",
       "    <tr>\n",
       "      <th>7</th>\n",
       "      <td>56</td>\n",
       "      <td>198.9</td>\n",
       "      <td>49.4</td>\n",
       "      <td>4.110874</td>\n",
       "      <td>23.7</td>\n",
       "      <td>21.388474</td>\n",
       "    </tr>\n",
       "    <tr>\n",
       "      <th>8</th>\n",
       "      <td>70</td>\n",
       "      <td>216.8</td>\n",
       "      <td>43.9</td>\n",
       "      <td>3.339322</td>\n",
       "      <td>22.3</td>\n",
       "      <td>21.147529</td>\n",
       "    </tr>\n",
       "    <tr>\n",
       "      <th>9</th>\n",
       "      <td>3</td>\n",
       "      <td>17.2</td>\n",
       "      <td>45.9</td>\n",
       "      <td>4.252772</td>\n",
       "      <td>9.3</td>\n",
       "      <td>12.757885</td>\n",
       "    </tr>\n",
       "    <tr>\n",
       "      <th>10</th>\n",
       "      <td>99</td>\n",
       "      <td>289.7</td>\n",
       "      <td>42.3</td>\n",
       "      <td>3.955082</td>\n",
       "      <td>25.4</td>\n",
       "      <td>23.997356</td>\n",
       "    </tr>\n",
       "    <tr>\n",
       "      <th>11</th>\n",
       "      <td>11</td>\n",
       "      <td>66.1</td>\n",
       "      <td>5.8</td>\n",
       "      <td>3.226844</td>\n",
       "      <td>8.6</td>\n",
       "      <td>7.206327</td>\n",
       "    </tr>\n",
       "    <tr>\n",
       "      <th>12</th>\n",
       "      <td>76</td>\n",
       "      <td>16.9</td>\n",
       "      <td>43.7</td>\n",
       "      <td>4.504244</td>\n",
       "      <td>8.7</td>\n",
       "      <td>12.307771</td>\n",
       "    </tr>\n",
       "    <tr>\n",
       "      <th>13</th>\n",
       "      <td>143</td>\n",
       "      <td>220.5</td>\n",
       "      <td>33.2</td>\n",
       "      <td>3.660994</td>\n",
       "      <td>20.1</td>\n",
       "      <td>19.228133</td>\n",
       "    </tr>\n",
       "    <tr>\n",
       "      <th>14</th>\n",
       "      <td>125</td>\n",
       "      <td>229.5</td>\n",
       "      <td>32.3</td>\n",
       "      <td>4.320151</td>\n",
       "      <td>19.7</td>\n",
       "      <td>19.415816</td>\n",
       "    </tr>\n",
       "    <tr>\n",
       "      <th>15</th>\n",
       "      <td>64</td>\n",
       "      <td>102.7</td>\n",
       "      <td>29.6</td>\n",
       "      <td>2.240710</td>\n",
       "      <td>14.0</td>\n",
       "      <td>13.449858</td>\n",
       "    </tr>\n",
       "    <tr>\n",
       "      <th>16</th>\n",
       "      <td>110</td>\n",
       "      <td>255.4</td>\n",
       "      <td>26.9</td>\n",
       "      <td>1.871802</td>\n",
       "      <td>19.8</td>\n",
       "      <td>19.626196</td>\n",
       "    </tr>\n",
       "    <tr>\n",
       "      <th>17</th>\n",
       "      <td>79</td>\n",
       "      <td>5.4</td>\n",
       "      <td>29.9</td>\n",
       "      <td>2.341806</td>\n",
       "      <td>5.3</td>\n",
       "      <td>9.246675</td>\n",
       "    </tr>\n",
       "    <tr>\n",
       "      <th>18</th>\n",
       "      <td>112</td>\n",
       "      <td>241.7</td>\n",
       "      <td>38.0</td>\n",
       "      <td>3.186353</td>\n",
       "      <td>21.8</td>\n",
       "      <td>21.105287</td>\n",
       "    </tr>\n",
       "    <tr>\n",
       "      <th>19</th>\n",
       "      <td>186</td>\n",
       "      <td>205.0</td>\n",
       "      <td>45.1</td>\n",
       "      <td>3.025291</td>\n",
       "      <td>22.6</td>\n",
       "      <td>20.878384</td>\n",
       "    </tr>\n",
       "    <tr>\n",
       "      <th>20</th>\n",
       "      <td>155</td>\n",
       "      <td>187.8</td>\n",
       "      <td>21.1</td>\n",
       "      <td>2.351375</td>\n",
       "      <td>15.6</td>\n",
       "      <td>15.526113</td>\n",
       "    </tr>\n",
       "    <tr>\n",
       "      <th>21</th>\n",
       "      <td>131</td>\n",
       "      <td>0.7</td>\n",
       "      <td>39.6</td>\n",
       "      <td>2.272126</td>\n",
       "      <td>1.6</td>\n",
       "      <td>10.916956</td>\n",
       "    </tr>\n",
       "    <tr>\n",
       "      <th>22</th>\n",
       "      <td>62</td>\n",
       "      <td>261.3</td>\n",
       "      <td>42.7</td>\n",
       "      <td>4.019980</td>\n",
       "      <td>24.2</td>\n",
       "      <td>22.829107</td>\n",
       "    </tr>\n",
       "    <tr>\n",
       "      <th>23</th>\n",
       "      <td>88</td>\n",
       "      <td>110.7</td>\n",
       "      <td>40.6</td>\n",
       "      <td>4.162003</td>\n",
       "      <td>16.0</td>\n",
       "      <td>15.829156</td>\n",
       "    </tr>\n",
       "    <tr>\n",
       "      <th>24</th>\n",
       "      <td>103</td>\n",
       "      <td>280.2</td>\n",
       "      <td>10.1</td>\n",
       "      <td>3.109061</td>\n",
       "      <td>14.8</td>\n",
       "      <td>17.407422</td>\n",
       "    </tr>\n",
       "    <tr>\n",
       "      <th>25</th>\n",
       "      <td>122</td>\n",
       "      <td>18.8</td>\n",
       "      <td>21.7</td>\n",
       "      <td>3.939638</td>\n",
       "      <td>7.0</td>\n",
       "      <td>8.171704</td>\n",
       "    </tr>\n",
       "    <tr>\n",
       "      <th>26</th>\n",
       "      <td>137</td>\n",
       "      <td>25.6</td>\n",
       "      <td>39.0</td>\n",
       "      <td>2.332144</td>\n",
       "      <td>9.5</td>\n",
       "      <td>11.887384</td>\n",
       "    </tr>\n",
       "    <tr>\n",
       "      <th>27</th>\n",
       "      <td>2</td>\n",
       "      <td>44.5</td>\n",
       "      <td>39.3</td>\n",
       "      <td>3.830813</td>\n",
       "      <td>10.4</td>\n",
       "      <td>12.698666</td>\n",
       "    </tr>\n",
       "    <tr>\n",
       "      <th>28</th>\n",
       "      <td>48</td>\n",
       "      <td>239.9</td>\n",
       "      <td>41.5</td>\n",
       "      <td>2.970414</td>\n",
       "      <td>23.2</td>\n",
       "      <td>21.712750</td>\n",
       "    </tr>\n",
       "    <tr>\n",
       "      <th>29</th>\n",
       "      <td>173</td>\n",
       "      <td>19.6</td>\n",
       "      <td>20.1</td>\n",
       "      <td>2.890372</td>\n",
       "      <td>7.6</td>\n",
       "      <td>7.949202</td>\n",
       "    </tr>\n",
       "    <tr>\n",
       "      <th>30</th>\n",
       "      <td>160</td>\n",
       "      <td>131.7</td>\n",
       "      <td>18.4</td>\n",
       "      <td>3.572346</td>\n",
       "      <td>12.9</td>\n",
       "      <td>12.491190</td>\n",
       "    </tr>\n",
       "    <tr>\n",
       "      <th>31</th>\n",
       "      <td>40</td>\n",
       "      <td>228.0</td>\n",
       "      <td>37.7</td>\n",
       "      <td>3.496508</td>\n",
       "      <td>21.5</td>\n",
       "      <td>20.432921</td>\n",
       "    </tr>\n",
       "    <tr>\n",
       "      <th>32</th>\n",
       "      <td>77</td>\n",
       "      <td>27.5</td>\n",
       "      <td>1.6</td>\n",
       "      <td>3.077312</td>\n",
       "      <td>6.9</td>\n",
       "      <td>4.714431</td>\n",
       "    </tr>\n",
       "    <tr>\n",
       "      <th>33</th>\n",
       "      <td>92</td>\n",
       "      <td>28.6</td>\n",
       "      <td>1.5</td>\n",
       "      <td>3.526361</td>\n",
       "      <td>7.3</td>\n",
       "      <td>4.721262</td>\n",
       "    </tr>\n",
       "    <tr>\n",
       "      <th>34</th>\n",
       "      <td>36</td>\n",
       "      <td>290.7</td>\n",
       "      <td>4.1</td>\n",
       "      <td>2.251292</td>\n",
       "      <td>12.8</td>\n",
       "      <td>16.750485</td>\n",
       "    </tr>\n",
       "    <tr>\n",
       "      <th>35</th>\n",
       "      <td>179</td>\n",
       "      <td>276.7</td>\n",
       "      <td>2.3</td>\n",
       "      <td>3.206803</td>\n",
       "      <td>11.8</td>\n",
       "      <td>15.743849</td>\n",
       "    </tr>\n",
       "    <tr>\n",
       "      <th>36</th>\n",
       "      <td>128</td>\n",
       "      <td>80.2</td>\n",
       "      <td>0.0</td>\n",
       "      <td>2.322388</td>\n",
       "      <td>8.8</td>\n",
       "      <td>6.747756</td>\n",
       "    </tr>\n",
       "    <tr>\n",
       "      <th>37</th>\n",
       "      <td>170</td>\n",
       "      <td>284.3</td>\n",
       "      <td>10.6</td>\n",
       "      <td>2.001480</td>\n",
       "      <td>15.0</td>\n",
       "      <td>17.737502</td>\n",
       "    </tr>\n",
       "    <tr>\n",
       "      <th>38</th>\n",
       "      <td>47</td>\n",
       "      <td>89.7</td>\n",
       "      <td>9.9</td>\n",
       "      <td>3.602777</td>\n",
       "      <td>10.6</td>\n",
       "      <td>9.011700</td>\n",
       "    </tr>\n",
       "    <tr>\n",
       "      <th>39</th>\n",
       "      <td>175</td>\n",
       "      <td>222.4</td>\n",
       "      <td>3.4</td>\n",
       "      <td>2.646175</td>\n",
       "      <td>11.5</td>\n",
       "      <td>13.608416</td>\n",
       "    </tr>\n",
       "  </tbody>\n",
       "</table>\n",
       "</div>"
      ],
      "text/plain": [
       "    index     TV  radio  newspaper  Actual sales  Predicted sales\n",
       "0      60  210.7   29.5   2.332144          18.4        18.150269\n",
       "1       6    8.7   48.9   4.330733           7.2        12.961369\n",
       "2      21  218.4   27.7   3.996364          18.0        18.058153\n",
       "3     199  283.6   42.0   4.207673          25.5        23.660251\n",
       "4      53  216.4   41.7   3.703768          22.6        20.687510\n",
       "5      20  147.3   23.9   3.000720          14.6        14.263259\n",
       "6     163  188.4   18.1   3.280911          14.9        14.927745\n",
       "7      56  198.9   49.4   4.110874          23.7        21.388474\n",
       "8      70  216.8   43.9   3.339322          22.3        21.147529\n",
       "9       3   17.2   45.9   4.252772           9.3        12.757885\n",
       "10     99  289.7   42.3   3.955082          25.4        23.997356\n",
       "11     11   66.1    5.8   3.226844           8.6         7.206327\n",
       "12     76   16.9   43.7   4.504244           8.7        12.307771\n",
       "13    143  220.5   33.2   3.660994          20.1        19.228133\n",
       "14    125  229.5   32.3   4.320151          19.7        19.415816\n",
       "15     64  102.7   29.6   2.240710          14.0        13.449858\n",
       "16    110  255.4   26.9   1.871802          19.8        19.626196\n",
       "17     79    5.4   29.9   2.341806           5.3         9.246675\n",
       "18    112  241.7   38.0   3.186353          21.8        21.105287\n",
       "19    186  205.0   45.1   3.025291          22.6        20.878384\n",
       "20    155  187.8   21.1   2.351375          15.6        15.526113\n",
       "21    131    0.7   39.6   2.272126           1.6        10.916956\n",
       "22     62  261.3   42.7   4.019980          24.2        22.829107\n",
       "23     88  110.7   40.6   4.162003          16.0        15.829156\n",
       "24    103  280.2   10.1   3.109061          14.8        17.407422\n",
       "25    122   18.8   21.7   3.939638           7.0         8.171704\n",
       "26    137   25.6   39.0   2.332144           9.5        11.887384\n",
       "27      2   44.5   39.3   3.830813          10.4        12.698666\n",
       "28     48  239.9   41.5   2.970414          23.2        21.712750\n",
       "29    173   19.6   20.1   2.890372           7.6         7.949202\n",
       "30    160  131.7   18.4   3.572346          12.9        12.491190\n",
       "31     40  228.0   37.7   3.496508          21.5        20.432921\n",
       "32     77   27.5    1.6   3.077312           6.9         4.714431\n",
       "33     92   28.6    1.5   3.526361           7.3         4.721262\n",
       "34     36  290.7    4.1   2.251292          12.8        16.750485\n",
       "35    179  276.7    2.3   3.206803          11.8        15.743849\n",
       "36    128   80.2    0.0   2.322388           8.8         6.747756\n",
       "37    170  284.3   10.6   2.001480          15.0        17.737502\n",
       "38     47   89.7    9.9   3.602777          10.6         9.011700\n",
       "39    175  222.4    3.4   2.646175          11.5        13.608416"
      ]
     },
     "execution_count": 27,
     "metadata": {},
     "output_type": "execute_result"
    }
   ],
   "source": [
    "new_df"
   ]
  },
  {
   "cell_type": "code",
   "execution_count": 28,
   "id": "3118721e",
   "metadata": {},
   "outputs": [
    {
     "data": {
      "text/plain": [
       "<AxesSubplot:>"
      ]
     },
     "execution_count": 28,
     "metadata": {},
     "output_type": "execute_result"
    },
    {
     "data": {
      "image/png": "[encoded data removed]",
      "text/plain": [
       "<Figure size 432x288 with 1 Axes>"
      ]
     },
     "metadata": {
      "needs_background": "light"
     },
     "output_type": "display_data"
    }
   ],
   "source": [
    "new_df[\"Actual sales\"].plot()\n",
    "new_df[\"Predicted sales\"].plot()"
   ]
  },
  {
   "cell_type": "code",
   "execution_count": 29,
   "id": "fb42f4e1",
   "metadata": {},
   "outputs": [
    {
     "data": {
      "text/plain": [
       "0.9208986647500219"
      ]
     },
     "execution_count": 29,
     "metadata": {},
     "output_type": "execute_result"
    }
   ],
   "source": [
    "lm.score(X_train, Y_train)\n",
    "#Y_pred=lm.predict(X_train)\n",
    "#score=r2_score(Y_train,Y_pred)"
   ]
  },
  {
   "cell_type": "code",
   "execution_count": 30,
   "id": "0915114b",
   "metadata": {},
   "outputs": [
    {
     "name": "stdout",
     "output_type": "stream",
     "text": [
      "R-squared: 0.834801071903532\n",
      "RMSE: 2.59297691109306\n",
      "Adj R-square: 0.8322725168816474\n"
     ]
    }
   ],
   "source": [
    "from sklearn.metrics import r2_score,mean_squared_error\n",
    "import numpy as np\n",
    " \n",
    "r2=r2_score(Y_test,Y_pred)\n",
    "print(\"R-squared:\",r2)\n",
    " \n",
    "rmse=np.sqrt(mean_squared_error(Y_test,Y_pred))\n",
    "print(\"RMSE:\",rmse)\n",
    " \n",
    "adjusted_r_squared = 1 - (1-r2)*(len(Y)-1)/(len(Y)-X.shape[1]-1)\n",
    "print(\"Adj R-square:\",adjusted_r_squared)"
   ]
  },
  {
   "cell_type": "code",
   "execution_count": 31,
   "id": "2a1250c0",
   "metadata": {},
   "outputs": [
    {
     "name": "stdout",
     "output_type": "stream",
     "text": [
      "1.6\n",
      "25.5\n"
     ]
    }
   ],
   "source": [
    "print(Y_test.min())\n",
    "print(Y_test.max())"
   ]
  },
  {
   "cell_type": "code",
   "execution_count": 32,
   "id": "01ccdbf3",
   "metadata": {},
   "outputs": [
    {
     "data": {
      "text/html": [
       "<div>\n",
       "<style scoped>\n",
       "    .dataframe tbody tr th:only-of-type {\n",
       "        vertical-align: middle;\n",
       "    }\n",
       "\n",
       "    .dataframe tbody tr th {\n",
       "        vertical-align: top;\n",
       "    }\n",
       "\n",
       "    .dataframe thead th {\n",
       "        text-align: right;\n",
       "    }\n",
       "</style>\n",
       "<table border=\"1\" class=\"dataframe\">\n",
       "  <thead>\n",
       "    <tr style=\"text-align: right;\">\n",
       "      <th></th>\n",
       "      <th>TV</th>\n",
       "      <th>radio</th>\n",
       "      <th>newspaper</th>\n",
       "      <th>Actual sales</th>\n",
       "      <th>Predicted sales</th>\n",
       "      <th>Deviation</th>\n",
       "    </tr>\n",
       "  </thead>\n",
       "  <tbody>\n",
       "    <tr>\n",
       "      <th>0</th>\n",
       "      <td>210.7</td>\n",
       "      <td>29.5</td>\n",
       "      <td>2.332144</td>\n",
       "      <td>18.4</td>\n",
       "      <td>18.150269</td>\n",
       "      <td>0.249731</td>\n",
       "    </tr>\n",
       "    <tr>\n",
       "      <th>1</th>\n",
       "      <td>8.7</td>\n",
       "      <td>48.9</td>\n",
       "      <td>4.330733</td>\n",
       "      <td>7.2</td>\n",
       "      <td>12.961369</td>\n",
       "      <td>-5.761369</td>\n",
       "    </tr>\n",
       "    <tr>\n",
       "      <th>2</th>\n",
       "      <td>218.4</td>\n",
       "      <td>27.7</td>\n",
       "      <td>3.996364</td>\n",
       "      <td>18.0</td>\n",
       "      <td>18.058153</td>\n",
       "      <td>-0.058153</td>\n",
       "    </tr>\n",
       "    <tr>\n",
       "      <th>3</th>\n",
       "      <td>283.6</td>\n",
       "      <td>42.0</td>\n",
       "      <td>4.207673</td>\n",
       "      <td>25.5</td>\n",
       "      <td>23.660251</td>\n",
       "      <td>1.839749</td>\n",
       "    </tr>\n",
       "    <tr>\n",
       "      <th>4</th>\n",
       "      <td>216.4</td>\n",
       "      <td>41.7</td>\n",
       "      <td>3.703768</td>\n",
       "      <td>22.6</td>\n",
       "      <td>20.687510</td>\n",
       "      <td>1.912490</td>\n",
       "    </tr>\n",
       "    <tr>\n",
       "      <th>5</th>\n",
       "      <td>147.3</td>\n",
       "      <td>23.9</td>\n",
       "      <td>3.000720</td>\n",
       "      <td>14.6</td>\n",
       "      <td>14.263259</td>\n",
       "      <td>0.336741</td>\n",
       "    </tr>\n",
       "    <tr>\n",
       "      <th>6</th>\n",
       "      <td>188.4</td>\n",
       "      <td>18.1</td>\n",
       "      <td>3.280911</td>\n",
       "      <td>14.9</td>\n",
       "      <td>14.927745</td>\n",
       "      <td>-0.027745</td>\n",
       "    </tr>\n",
       "    <tr>\n",
       "      <th>7</th>\n",
       "      <td>198.9</td>\n",
       "      <td>49.4</td>\n",
       "      <td>4.110874</td>\n",
       "      <td>23.7</td>\n",
       "      <td>21.388474</td>\n",
       "      <td>2.311526</td>\n",
       "    </tr>\n",
       "    <tr>\n",
       "      <th>8</th>\n",
       "      <td>216.8</td>\n",
       "      <td>43.9</td>\n",
       "      <td>3.339322</td>\n",
       "      <td>22.3</td>\n",
       "      <td>21.147529</td>\n",
       "      <td>1.152471</td>\n",
       "    </tr>\n",
       "    <tr>\n",
       "      <th>9</th>\n",
       "      <td>17.2</td>\n",
       "      <td>45.9</td>\n",
       "      <td>4.252772</td>\n",
       "      <td>9.3</td>\n",
       "      <td>12.757885</td>\n",
       "      <td>-3.457885</td>\n",
       "    </tr>\n",
       "    <tr>\n",
       "      <th>10</th>\n",
       "      <td>289.7</td>\n",
       "      <td>42.3</td>\n",
       "      <td>3.955082</td>\n",
       "      <td>25.4</td>\n",
       "      <td>23.997356</td>\n",
       "      <td>1.402644</td>\n",
       "    </tr>\n",
       "    <tr>\n",
       "      <th>11</th>\n",
       "      <td>66.1</td>\n",
       "      <td>5.8</td>\n",
       "      <td>3.226844</td>\n",
       "      <td>8.6</td>\n",
       "      <td>7.206327</td>\n",
       "      <td>1.393673</td>\n",
       "    </tr>\n",
       "    <tr>\n",
       "      <th>12</th>\n",
       "      <td>16.9</td>\n",
       "      <td>43.7</td>\n",
       "      <td>4.504244</td>\n",
       "      <td>8.7</td>\n",
       "      <td>12.307771</td>\n",
       "      <td>-3.607771</td>\n",
       "    </tr>\n",
       "    <tr>\n",
       "      <th>13</th>\n",
       "      <td>220.5</td>\n",
       "      <td>33.2</td>\n",
       "      <td>3.660994</td>\n",
       "      <td>20.1</td>\n",
       "      <td>19.228133</td>\n",
       "      <td>0.871867</td>\n",
       "    </tr>\n",
       "    <tr>\n",
       "      <th>14</th>\n",
       "      <td>229.5</td>\n",
       "      <td>32.3</td>\n",
       "      <td>4.320151</td>\n",
       "      <td>19.7</td>\n",
       "      <td>19.415816</td>\n",
       "      <td>0.284184</td>\n",
       "    </tr>\n",
       "    <tr>\n",
       "      <th>15</th>\n",
       "      <td>102.7</td>\n",
       "      <td>29.6</td>\n",
       "      <td>2.240710</td>\n",
       "      <td>14.0</td>\n",
       "      <td>13.449858</td>\n",
       "      <td>0.550142</td>\n",
       "    </tr>\n",
       "    <tr>\n",
       "      <th>16</th>\n",
       "      <td>255.4</td>\n",
       "      <td>26.9</td>\n",
       "      <td>1.871802</td>\n",
       "      <td>19.8</td>\n",
       "      <td>19.626196</td>\n",
       "      <td>0.173804</td>\n",
       "    </tr>\n",
       "    <tr>\n",
       "      <th>17</th>\n",
       "      <td>5.4</td>\n",
       "      <td>29.9</td>\n",
       "      <td>2.341806</td>\n",
       "      <td>5.3</td>\n",
       "      <td>9.246675</td>\n",
       "      <td>-3.946675</td>\n",
       "    </tr>\n",
       "    <tr>\n",
       "      <th>18</th>\n",
       "      <td>241.7</td>\n",
       "      <td>38.0</td>\n",
       "      <td>3.186353</td>\n",
       "      <td>21.8</td>\n",
       "      <td>21.105287</td>\n",
       "      <td>0.694713</td>\n",
       "    </tr>\n",
       "    <tr>\n",
       "      <th>19</th>\n",
       "      <td>205.0</td>\n",
       "      <td>45.1</td>\n",
       "      <td>3.025291</td>\n",
       "      <td>22.6</td>\n",
       "      <td>20.878384</td>\n",
       "      <td>1.721616</td>\n",
       "    </tr>\n",
       "    <tr>\n",
       "      <th>20</th>\n",
       "      <td>187.8</td>\n",
       "      <td>21.1</td>\n",
       "      <td>2.351375</td>\n",
       "      <td>15.6</td>\n",
       "      <td>15.526113</td>\n",
       "      <td>0.073887</td>\n",
       "    </tr>\n",
       "    <tr>\n",
       "      <th>21</th>\n",
       "      <td>0.7</td>\n",
       "      <td>39.6</td>\n",
       "      <td>2.272126</td>\n",
       "      <td>1.6</td>\n",
       "      <td>10.916956</td>\n",
       "      <td>-9.316956</td>\n",
       "    </tr>\n",
       "    <tr>\n",
       "      <th>22</th>\n",
       "      <td>261.3</td>\n",
       "      <td>42.7</td>\n",
       "      <td>4.019980</td>\n",
       "      <td>24.2</td>\n",
       "      <td>22.829107</td>\n",
       "      <td>1.370893</td>\n",
       "    </tr>\n",
       "    <tr>\n",
       "      <th>23</th>\n",
       "      <td>110.7</td>\n",
       "      <td>40.6</td>\n",
       "      <td>4.162003</td>\n",
       "      <td>16.0</td>\n",
       "      <td>15.829156</td>\n",
       "      <td>0.170844</td>\n",
       "    </tr>\n",
       "    <tr>\n",
       "      <th>24</th>\n",
       "      <td>280.2</td>\n",
       "      <td>10.1</td>\n",
       "      <td>3.109061</td>\n",
       "      <td>14.8</td>\n",
       "      <td>17.407422</td>\n",
       "      <td>-2.607422</td>\n",
       "    </tr>\n",
       "    <tr>\n",
       "      <th>25</th>\n",
       "      <td>18.8</td>\n",
       "      <td>21.7</td>\n",
       "      <td>3.939638</td>\n",
       "      <td>7.0</td>\n",
       "      <td>8.171704</td>\n",
       "      <td>-1.171704</td>\n",
       "    </tr>\n",
       "    <tr>\n",
       "      <th>26</th>\n",
       "      <td>25.6</td>\n",
       "      <td>39.0</td>\n",
       "      <td>2.332144</td>\n",
       "      <td>9.5</td>\n",
       "      <td>11.887384</td>\n",
       "      <td>-2.387384</td>\n",
       "    </tr>\n",
       "    <tr>\n",
       "      <th>27</th>\n",
       "      <td>44.5</td>\n",
       "      <td>39.3</td>\n",
       "      <td>3.830813</td>\n",
       "      <td>10.4</td>\n",
       "      <td>12.698666</td>\n",
       "      <td>-2.298666</td>\n",
       "    </tr>\n",
       "    <tr>\n",
       "      <th>28</th>\n",
       "      <td>239.9</td>\n",
       "      <td>41.5</td>\n",
       "      <td>2.970414</td>\n",
       "      <td>23.2</td>\n",
       "      <td>21.712750</td>\n",
       "      <td>1.487250</td>\n",
       "    </tr>\n",
       "    <tr>\n",
       "      <th>29</th>\n",
       "      <td>19.6</td>\n",
       "      <td>20.1</td>\n",
       "      <td>2.890372</td>\n",
       "      <td>7.6</td>\n",
       "      <td>7.949202</td>\n",
       "      <td>-0.349202</td>\n",
       "    </tr>\n",
       "    <tr>\n",
       "      <th>30</th>\n",
       "      <td>131.7</td>\n",
       "      <td>18.4</td>\n",
       "      <td>3.572346</td>\n",
       "      <td>12.9</td>\n",
       "      <td>12.491190</td>\n",
       "      <td>0.408810</td>\n",
       "    </tr>\n",
       "    <tr>\n",
       "      <th>31</th>\n",
       "      <td>228.0</td>\n",
       "      <td>37.7</td>\n",
       "      <td>3.496508</td>\n",
       "      <td>21.5</td>\n",
       "      <td>20.432921</td>\n",
       "      <td>1.067079</td>\n",
       "    </tr>\n",
       "    <tr>\n",
       "      <th>32</th>\n",
       "      <td>27.5</td>\n",
       "      <td>1.6</td>\n",
       "      <td>3.077312</td>\n",
       "      <td>6.9</td>\n",
       "      <td>4.714431</td>\n",
       "      <td>2.185569</td>\n",
       "    </tr>\n",
       "    <tr>\n",
       "      <th>33</th>\n",
       "      <td>28.6</td>\n",
       "      <td>1.5</td>\n",
       "      <td>3.526361</td>\n",
       "      <td>7.3</td>\n",
       "      <td>4.721262</td>\n",
       "      <td>2.578738</td>\n",
       "    </tr>\n",
       "    <tr>\n",
       "      <th>34</th>\n",
       "      <td>290.7</td>\n",
       "      <td>4.1</td>\n",
       "      <td>2.251292</td>\n",
       "      <td>12.8</td>\n",
       "      <td>16.750485</td>\n",
       "      <td>-3.950485</td>\n",
       "    </tr>\n",
       "    <tr>\n",
       "      <th>35</th>\n",
       "      <td>276.7</td>\n",
       "      <td>2.3</td>\n",
       "      <td>3.206803</td>\n",
       "      <td>11.8</td>\n",
       "      <td>15.743849</td>\n",
       "      <td>-3.943849</td>\n",
       "    </tr>\n",
       "    <tr>\n",
       "      <th>36</th>\n",
       "      <td>80.2</td>\n",
       "      <td>0.0</td>\n",
       "      <td>2.322388</td>\n",
       "      <td>8.8</td>\n",
       "      <td>6.747756</td>\n",
       "      <td>2.052244</td>\n",
       "    </tr>\n",
       "    <tr>\n",
       "      <th>37</th>\n",
       "      <td>284.3</td>\n",
       "      <td>10.6</td>\n",
       "      <td>2.001480</td>\n",
       "      <td>15.0</td>\n",
       "      <td>17.737502</td>\n",
       "      <td>-2.737502</td>\n",
       "    </tr>\n",
       "    <tr>\n",
       "      <th>38</th>\n",
       "      <td>89.7</td>\n",
       "      <td>9.9</td>\n",
       "      <td>3.602777</td>\n",
       "      <td>10.6</td>\n",
       "      <td>9.011700</td>\n",
       "      <td>1.588300</td>\n",
       "    </tr>\n",
       "    <tr>\n",
       "      <th>39</th>\n",
       "      <td>222.4</td>\n",
       "      <td>3.4</td>\n",
       "      <td>2.646175</td>\n",
       "      <td>11.5</td>\n",
       "      <td>13.608416</td>\n",
       "      <td>-2.108416</td>\n",
       "    </tr>\n",
       "  </tbody>\n",
       "</table>\n",
       "</div>"
      ],
      "text/plain": [
       "       TV  radio  newspaper  Actual sales  Predicted sales  Deviation\n",
       "0   210.7   29.5   2.332144          18.4        18.150269   0.249731\n",
       "1     8.7   48.9   4.330733           7.2        12.961369  -5.761369\n",
       "2   218.4   27.7   3.996364          18.0        18.058153  -0.058153\n",
       "3   283.6   42.0   4.207673          25.5        23.660251   1.839749\n",
       "4   216.4   41.7   3.703768          22.6        20.687510   1.912490\n",
       "5   147.3   23.9   3.000720          14.6        14.263259   0.336741\n",
       "6   188.4   18.1   3.280911          14.9        14.927745  -0.027745\n",
       "7   198.9   49.4   4.110874          23.7        21.388474   2.311526\n",
       "8   216.8   43.9   3.339322          22.3        21.147529   1.152471\n",
       "9    17.2   45.9   4.252772           9.3        12.757885  -3.457885\n",
       "10  289.7   42.3   3.955082          25.4        23.997356   1.402644\n",
       "11   66.1    5.8   3.226844           8.6         7.206327   1.393673\n",
       "12   16.9   43.7   4.504244           8.7        12.307771  -3.607771\n",
       "13  220.5   33.2   3.660994          20.1        19.228133   0.871867\n",
       "14  229.5   32.3   4.320151          19.7        19.415816   0.284184\n",
       "15  102.7   29.6   2.240710          14.0        13.449858   0.550142\n",
       "16  255.4   26.9   1.871802          19.8        19.626196   0.173804\n",
       "17    5.4   29.9   2.341806           5.3         9.246675  -3.946675\n",
       "18  241.7   38.0   3.186353          21.8        21.105287   0.694713\n",
       "19  205.0   45.1   3.025291          22.6        20.878384   1.721616\n",
       "20  187.8   21.1   2.351375          15.6        15.526113   0.073887\n",
       "21    0.7   39.6   2.272126           1.6        10.916956  -9.316956\n",
       "22  261.3   42.7   4.019980          24.2        22.829107   1.370893\n",
       "23  110.7   40.6   4.162003          16.0        15.829156   0.170844\n",
       "24  280.2   10.1   3.109061          14.8        17.407422  -2.607422\n",
       "25   18.8   21.7   3.939638           7.0         8.171704  -1.171704\n",
       "26   25.6   39.0   2.332144           9.5        11.887384  -2.387384\n",
       "27   44.5   39.3   3.830813          10.4        12.698666  -2.298666\n",
       "28  239.9   41.5   2.970414          23.2        21.712750   1.487250\n",
       "29   19.6   20.1   2.890372           7.6         7.949202  -0.349202\n",
       "30  131.7   18.4   3.572346          12.9        12.491190   0.408810\n",
       "31  228.0   37.7   3.496508          21.5        20.432921   1.067079\n",
       "32   27.5    1.6   3.077312           6.9         4.714431   2.185569\n",
       "33   28.6    1.5   3.526361           7.3         4.721262   2.578738\n",
       "34  290.7    4.1   2.251292          12.8        16.750485  -3.950485\n",
       "35  276.7    2.3   3.206803          11.8        15.743849  -3.943849\n",
       "36   80.2    0.0   2.322388           8.8         6.747756   2.052244\n",
       "37  284.3   10.6   2.001480          15.0        17.737502  -2.737502\n",
       "38   89.7    9.9   3.602777          10.6         9.011700   1.588300\n",
       "39  222.4    3.4   2.646175          11.5        13.608416  -2.108416"
      ]
     },
     "execution_count": 32,
     "metadata": {},
     "output_type": "execute_result"
    }
   ],
   "source": [
    "new_df[\"Deviation\"]=new_df[\"Actual sales\"]-new_df[\"Predicted sales\"]\n",
    "new_df.to_excel(\"Sales Prediction.xlsx\",header=True,index=True)\n",
    "new_df.head()\n",
    "new_df.drop(\"index\",axis=1)"
   ]
  },
  {
   "cell_type": "code",
   "execution_count": 33,
   "id": "75e0fab1",
   "metadata": {},
   "outputs": [
    {
     "data": {
      "text/plain": [
       "<AxesSubplot:xlabel='sales'>"
      ]
     },
     "execution_count": 33,
     "metadata": {},
     "output_type": "execute_result"
    },
    {
     "data": {
      "image/png": "[encoded data removed]",
      "text/plain": [
       "<Figure size 432x288 with 1 Axes>"
      ]
     },
     "metadata": {
      "needs_background": "light"
     },
     "output_type": "display_data"
    }
   ],
   "source": [
    "sns.regplot(x=Y_train,y=lm.predict(X_train),ci=95)"
   ]
  },
  {
   "cell_type": "code",
   "execution_count": 34,
   "id": "496d90b6",
   "metadata": {},
   "outputs": [
    {
     "name": "stdout",
     "output_type": "stream",
     "text": [
      "3.3522471725966003\n",
      "[ 0.04374234  0.19302603 -0.04853131]\n"
     ]
    },
    {
     "data": {
      "text/plain": [
       "'\\nprevious values:\\n3.3532913858151474\\n[ 0.0437425   0.19303708 -0.04895137]\\n'"
      ]
     },
     "execution_count": 34,
     "metadata": {},
     "output_type": "execute_result"
    }
   ],
   "source": [
    "from sklearn.linear_model import Ridge\n",
    "lm = Ridge()\n",
    "lm.fit(X_train,Y_train)\n",
    "\n",
    "#print intercept and coefficients\n",
    "print(lm.intercept_)\n",
    "print(lm.coef_)\n",
    "\"\"\"\n",
    "previous values:\n",
    "3.3532913858151474\n",
    "[ 0.0437425   0.19303708 -0.04895137]\n",
    "\"\"\"\n"
   ]
  },
  {
   "cell_type": "code",
   "execution_count": 35,
   "id": "4c994fd6",
   "metadata": {},
   "outputs": [],
   "source": [
    "Y_pred=lm.predict(X_test)"
   ]
  },
  {
   "cell_type": "code",
   "execution_count": 36,
   "id": "30a4b9a3",
   "metadata": {
    "scrolled": true
   },
   "outputs": [
    {
     "name": "stdout",
     "output_type": "stream",
     "text": [
      "R squared: 0.8348082644975934\n",
      "Root mean squared error: 2.592920462683998\n",
      "Adjusted r: 0.832279819566434\n"
     ]
    },
    {
     "data": {
      "text/plain": [
       "'\\nPrevious values:\\n\\n 0.834801071903532\\n 2.59297691109306\\n 0.8322725168816474\\n'"
      ]
     },
     "execution_count": 36,
     "metadata": {},
     "output_type": "execute_result"
    }
   ],
   "source": [
    "from sklearn.metrics import r2_score,mean_squared_error\n",
    "import numpy as np\n",
    "\n",
    "r2=r2_score(Y_test,Y_pred)\n",
    "print(\"R squared:\",r2)\n",
    "\n",
    "rmse=np.sqrt(mean_squared_error(Y_test,Y_pred))\n",
    "print(\"Root mean squared error:\",rmse)\n",
    "\n",
    "adjusted_r_squared = 1- (1-r2)*(len(Y)-1)/(len(Y)-X.shape[1]-1)\n",
    "print(\"Adjusted r:\",adjusted_r_squared)\n",
    "\n",
    "\"\"\"\n",
    "Previous values:\n",
    "\n",
    " 0.834801071903532\n",
    " 2.59297691109306\n",
    " 0.8322725168816474\n",
    "\"\"\""
   ]
  },
  {
   "cell_type": "code",
   "execution_count": 37,
   "id": "6a268154",
   "metadata": {},
   "outputs": [
    {
     "name": "stdout",
     "output_type": "stream",
     "text": [
      "3.3367940582203186\n",
      "[ 0.04362374  0.18766033 -0.        ]\n"
     ]
    }
   ],
   "source": [
    "from sklearn.linear_model import Lasso\n",
    "lm = Lasso()\n",
    "lm.fit(X_train,Y_train)\n",
    "\n",
    "#print intercept and coefficients\n",
    "print(lm.intercept_)\n",
    "print(lm.coef_)"
   ]
  },
  {
   "cell_type": "code",
   "execution_count": 38,
   "id": "03deca85",
   "metadata": {},
   "outputs": [
    {
     "name": "stdout",
     "output_type": "stream",
     "text": [
      "R squared: 0.8360506658527163\n",
      "Root mean squared error: 2.5831514271094234\n",
      "Adjusted r: 0.8335412372688292\n"
     ]
    }
   ],
   "source": [
    "Y_pred = lm.predict(X_test)\n",
    "\n",
    "from sklearn.metrics import r2_score,mean_squared_error\n",
    "import numpy as np\n",
    "\n",
    "r2=r2_score(Y_test,Y_pred)\n",
    "print(\"R squared:\",r2)\n",
    "\n",
    "rmse=np.sqrt(mean_squared_error(Y_test,Y_pred))\n",
    "print(\"Root mean squared error:\",rmse)\n",
    "\n",
    "adjusted_r_squared = 1- (1-r2)*(len(Y)-1)/(len(Y)-X.shape[1]-1)\n",
    "print(\"Adjusted r:\",adjusted_r_squared)\n"
   ]
  },
  {
   "cell_type": "code",
   "execution_count": 39,
   "id": "f5ee711c",
   "metadata": {},
   "outputs": [],
   "source": [
    "#Ols--->(Y_train, X_train)\n",
    "#ols--->(Y~X1+X2+X3)"
   ]
  },
  {
   "cell_type": "code",
   "execution_count": 40,
   "id": "c44262b5",
   "metadata": {},
   "outputs": [
    {
     "data": {
      "text/plain": [
       "(160, 4)"
      ]
     },
     "execution_count": 40,
     "metadata": {},
     "output_type": "execute_result"
    }
   ],
   "source": [
    "new_df=pd.DataFrame()\n",
    "new_df=X_train.copy()\n",
    "\n",
    "new_df[\"sales\"]=Y_train.copy()\n",
    "new_df.shape"
   ]
  },
  {
   "cell_type": "code",
   "execution_count": 41,
   "id": "1f354353",
   "metadata": {},
   "outputs": [
    {
     "name": "stdout",
     "output_type": "stream",
     "text": [
      "Intercept    3.353291\n",
      "TV           0.043743\n",
      "radio        0.193037\n",
      "newspaper   -0.048951\n",
      "dtype: float64\n",
      "\n",
      "                            OLS Regression Results                            \n",
      "==============================================================================\n",
      "Dep. Variable:                  sales   R-squared:                       0.921\n",
      "Model:                            OLS   Adj. R-squared:                  0.919\n",
      "Method:                 Least Squares   F-statistic:                     605.4\n",
      "Date:                Sun, 30 Apr 2023   Prob (F-statistic):           1.10e-85\n",
      "Time:                        21:04:50   Log-Likelihood:                -276.63\n",
      "No. Observations:                 160   AIC:                             561.3\n",
      "Df Residuals:                     156   BIC:                             573.6\n",
      "Df Model:                           3                                         \n",
      "Covariance Type:            nonrobust                                         \n",
      "==============================================================================\n",
      "                 coef    std err          t      P>|t|      [0.025      0.975]\n",
      "------------------------------------------------------------------------------\n",
      "Intercept      3.3533      0.442      7.578      0.000       2.479       4.227\n",
      "TV             0.0437      0.001     32.516      0.000       0.041       0.046\n",
      "radio          0.1930      0.008     24.946      0.000       0.178       0.208\n",
      "newspaper     -0.0490      0.125     -0.391      0.697      -0.297       0.199\n",
      "==============================================================================\n",
      "Omnibus:                       12.594   Durbin-Watson:                   2.106\n",
      "Prob(Omnibus):                  0.002   Jarque-Bera (JB):               13.403\n",
      "Skew:                          -0.699   Prob(JB):                      0.00123\n",
      "Kurtosis:                       3.237   Cond. No.                         697.\n",
      "==============================================================================\n",
      "\n",
      "Notes:\n",
      "[1] Standard Errors assume that the covariance matrix of the errors is correctly specified.\n"
     ]
    },
    {
     "data": {
      "text/plain": [
       "'\\n3.3522471725966003\\n[ 0.04374234  0.19302603 -0.04853131]\\n'"
      ]
     },
     "execution_count": 41,
     "metadata": {},
     "output_type": "execute_result"
    }
   ],
   "source": [
    "import statsmodels.formula.api as sm\n",
    "\n",
    "# create a fitted model with all three features\n",
    "lm_model = sm.ols(formula=\"sales ~ TV + radio + newspaper\",\n",
    "                 data=new_df).fit()\n",
    "\n",
    "#print the coefficients\n",
    "print(lm_model.params)\n",
    "print()\n",
    "print(lm_model.summary())\n",
    "\n",
    "\"\"\"\n",
    "3.3522471725966003\n",
    "[ 0.04374234  0.19302603 -0.04853131]\n",
    "\"\"\"\n"
   ]
  },
  {
   "cell_type": "code",
   "execution_count": 42,
   "id": "d9d6466d",
   "metadata": {},
   "outputs": [],
   "source": [
    "Y_pred_new=lm_model.predict(X_test)"
   ]
  },
  {
   "cell_type": "code",
   "execution_count": 43,
   "id": "8c959a38",
   "metadata": {},
   "outputs": [
    {
     "name": "stdout",
     "output_type": "stream",
     "text": [
      "R squared: 0.8348010719035377\n",
      "Root mean squared error: 2.5929769110930154\n",
      "Adjusted r: 0.832272516881653\n"
     ]
    }
   ],
   "source": [
    "from sklearn.metrics import r2_score,mean_squared_error\n",
    "import numpy as np\n",
    "\n",
    "r2=r2_score(Y_test,Y_pred_new)\n",
    "print(\"R squared:\",r2)\n",
    "\n",
    "rmse=np.sqrt(mean_squared_error(Y_test,Y_pred_new))\n",
    "print(\"Root mean squared error:\",rmse)\n",
    "\n",
    "adjusted_r_squared = 1- (1-r2)*(len(Y)-1)/(len(Y)-X.shape[1]-1)\n",
    "print(\"Adjusted r:\",adjusted_r_squared)\n"
   ]
  },
  {
   "cell_type": "code",
   "execution_count": 44,
   "id": "cbe8a16d",
   "metadata": {},
   "outputs": [
    {
     "name": "stdout",
     "output_type": "stream",
     "text": [
      "Intercept    3.217026\n",
      "TV           0.043721\n",
      "radio        0.192425\n",
      "dtype: float64\n",
      "                            OLS Regression Results                            \n",
      "==============================================================================\n",
      "Dep. Variable:                  sales   R-squared:                       0.921\n",
      "Model:                            OLS   Adj. R-squared:                  0.920\n",
      "Method:                 Least Squares   F-statistic:                     912.9\n",
      "Date:                Sun, 30 Apr 2023   Prob (F-statistic):           3.47e-87\n",
      "Time:                        21:04:50   Log-Likelihood:                -276.70\n",
      "No. Observations:                 160   AIC:                             559.4\n",
      "Df Residuals:                     157   BIC:                             568.6\n",
      "Df Model:                           2                                         \n",
      "Covariance Type:            nonrobust                                         \n",
      "==============================================================================\n",
      "                 coef    std err          t      P>|t|      [0.025      0.975]\n",
      "------------------------------------------------------------------------------\n",
      "Intercept      3.2170      0.271     11.855      0.000       2.681       3.753\n",
      "TV             0.0437      0.001     32.616      0.000       0.041       0.046\n",
      "radio          0.1924      0.008     25.462      0.000       0.177       0.207\n",
      "==============================================================================\n",
      "Omnibus:                       12.555   Durbin-Watson:                   2.100\n",
      "Prob(Omnibus):                  0.002   Jarque-Bera (JB):               13.347\n",
      "Skew:                          -0.697   Prob(JB):                      0.00126\n",
      "Kurtosis:                       3.241   Cond. No.                         418.\n",
      "==============================================================================\n",
      "\n",
      "Notes:\n",
      "[1] Standard Errors assume that the covariance matrix of the errors is correctly specified.\n"
     ]
    }
   ],
   "source": [
    "import statsmodels.formula.api as sm\n",
    "\n",
    "# create a fitted model with all three features\n",
    "lm_model = sm.ols(formula=\"sales ~ TV + radio\",\n",
    "                 data=new_df).fit()\n",
    "\n",
    "#print the coefficients\n",
    "print(lm_model.params)\n",
    "print(lm_model.summary())\n"
   ]
  },
  {
   "cell_type": "code",
   "execution_count": 45,
   "id": "dd837083",
   "metadata": {},
   "outputs": [
    {
     "name": "stdout",
     "output_type": "stream",
     "text": [
      "R squared: 0.8354496662944217\n",
      "Root mean squared error: 2.5878817077378105\n",
      "Adjusted r: 0.8329310387377037\n"
     ]
    }
   ],
   "source": [
    "Y_pred_new=lm_model.predict(X_test)\n",
    "from sklearn.metrics import r2_score,mean_squared_error\n",
    "import numpy as np\n",
    "\n",
    "r2=r2_score(Y_test,Y_pred_new)\n",
    "print(\"R squared:\",r2)\n",
    "\n",
    "rmse=np.sqrt(mean_squared_error(Y_test,Y_pred_new))\n",
    "print(\"Root mean squared error:\",rmse)\n",
    "\n",
    "adjusted_r_squared = 1- (1-r2)*(len(Y)-1)/(len(Y)-X.shape[1]-1)\n",
    "print(\"Adjusted r:\",adjusted_r_squared)"
   ]
  },
  {
   "cell_type": "code",
   "execution_count": 46,
   "id": "c19f43a3",
   "metadata": {},
   "outputs": [
    {
     "data": {
      "text/plain": [
       "Text(0, 0.5, 'Residuals')"
      ]
     },
     "execution_count": 46,
     "metadata": {},
     "output_type": "execute_result"
    },
    {
     "data": {
      "image/png": "[encoded data removed]",
      "text/plain": [
       "<Figure size 864x576 with 1 Axes>"
      ]
     },
     "metadata": {
      "needs_background": "light"
     },
     "output_type": "display_data"
    }
   ],
   "source": [
    "#Assumption: Errors should be random\n",
    "#checked using Residual v/s Fitted plot\n",
    " \n",
    "import matplotlib.pyplot as plt\n",
    "plot_lm_1 = plt.figure(1)\n",
    "plot_lm_1.set_figheight(8)\n",
    "plot_lm_1.set_figwidth(12)\n",
    " \n",
    "# fitted values (need a constant term for intercept)\n",
    "model_fitted_y = lm_model.fittedvalues\n",
    " \n",
    "plot_lm_1.axes[0] = sns.residplot(model_fitted_y, 'sales', data=new_df, lowess=True)\n",
    " \n",
    "plot_lm_1.axes[0].set_title('Residuals vs Fitted')\n",
    "plot_lm_1.axes[0].set_xlabel('Fitted values')\n",
    "plot_lm_1.axes[0].set_ylabel('Residuals')\n",
    "\n",
    "#The line we get should not follow wave path as it has a lot of errors\n",
    "#It should follow the same path as below"
   ]
  },
  {
   "cell_type": "code",
   "execution_count": 47,
   "id": "524d54e4",
   "metadata": {},
   "outputs": [
    {
     "data": {
      "image/png": "[encoded data removed]",
      "text/plain": [
       "<Figure size 432x288 with 1 Axes>"
      ]
     },
     "metadata": {
      "needs_background": "light"
     },
     "output_type": "display_data"
    }
   ],
   "source": [
    "#Assumption: Errors should follow a approximate normal distribution\n",
    "#checked using Normal QQ plot\n",
    " \n",
    "res = lm_model.resid\n",
    "import statsmodels.api as stm\n",
    "import scipy.stats as stats\n",
    "fig = stm.qqplot(res,  fit=True, line='45')\n",
    "plt.title('Normal Q-Q')\n",
    "plt.xlabel('Theoretical Quantiles')\n",
    "plt.ylabel('Standardized Residuals')\n",
    "plt.show() \n",
    "#The error should follow the red diagonal line to indicate that they follow a normal distribution"
   ]
  },
  {
   "cell_type": "code",
   "execution_count": 48,
   "id": "f63397ce",
   "metadata": {},
   "outputs": [
    {
     "data": {
      "text/plain": [
       "Text(0, 0.5, '$\\\\sqrt{|Standardized Residuals|}$')"
      ]
     },
     "execution_count": 48,
     "metadata": {},
     "output_type": "execute_result"
    },
    {
     "data": {
      "image/png": "[encoded data removed]",
      "text/plain": [
       "<Figure size 864x576 with 1 Axes>"
      ]
     },
     "metadata": {
      "needs_background": "light"
     },
     "output_type": "display_data"
    }
   ],
   "source": [
    "#Assumption: Errors should follow a constant variance-->Homoskedasticity\n",
    "#checked using Scale location plot\n",
    " \n",
    "# normalized residuals\n",
    "model_norm_residuals = lm_model.get_influence().resid_studentized_internal\n",
    "# absolute squared normalized residuals\n",
    "model_norm_residuals_abs_sqrt = np.sqrt(np.abs(model_norm_residuals))\n",
    " \n",
    "plot_lm_3 = plt.figure(3)\n",
    "plot_lm_3.set_figheight(8)\n",
    "plot_lm_3.set_figwidth(12)\n",
    "plt.scatter(model_fitted_y, model_norm_residuals_abs_sqrt, alpha=0.5)\n",
    "sns.regplot(model_fitted_y, model_norm_residuals_abs_sqrt, lowess=True)\n",
    " \n",
    "\n",
    "plot_lm_3.axes[0].set_title('Scale-Location')\n",
    "plot_lm_3.axes[0].set_xlabel('Fitted values')\n",
    "plot_lm_3.axes[0].set_ylabel('$\\sqrt{|Standardized Residuals|}$')\n",
    "\n",
    "#Should get approx horizontal line which indicates equal varience in the data \n",
    "#Should not have V li structure or Steep angle"
   ]
  },
  {
   "cell_type": "code",
   "execution_count": 49,
   "id": "ff5fa3f3",
   "metadata": {},
   "outputs": [],
   "source": [
    "X = data[['TV','radio','newspaper']]\n",
    "Y = data['sales']"
   ]
  },
  {
   "cell_type": "code",
   "execution_count": 50,
   "id": "04af9088",
   "metadata": {},
   "outputs": [
    {
     "name": "stdout",
     "output_type": "stream",
     "text": [
      "[[ 9.69852266e-01  9.81522472e-01  1.77894547e+00]\n",
      " [-1.19737623e+00  1.08280781e+00  6.69578760e-01]\n",
      " [-1.51615499e+00  1.52846331e+00  1.78354865e+00]\n",
      " [ 5.20496822e-02  1.21785493e+00  1.28640506e+00]\n",
      " [ 3.94182198e-01 -8.41613655e-01  1.28180188e+00]\n",
      " [-1.61540845e+00  1.73103399e+00  2.04592999e+00]\n",
      " [-1.04557682e+00  6.43904671e-01 -3.24708413e-01]\n",
      " [-3.13436589e-01 -2.47406325e-01 -8.72486994e-01]\n",
      " [-1.61657614e+00 -1.42906863e+00 -1.36042422e+00]\n",
      " [ 6.16042873e-01 -1.39530685e+00 -4.30581584e-01]\n",
      " [-9.45155670e-01 -1.17923146e+00 -2.92486143e-01]\n",
      " [ 7.90028350e-01  4.96973404e-02 -1.22232878e+00]\n",
      " [-1.43908760e+00  7.99208859e-01  1.62704048e+00]\n",
      " [-5.78501712e-01 -1.05768905e+00 -1.07502697e+00]\n",
      " [ 6.66253447e-01  6.50657027e-01  7.11007392e-01]\n",
      " [ 5.64664612e-01  1.65000572e+00  1.02862691e+00]\n",
      " [-9.25304978e-01  9.00494200e-01  3.84117072e+00]\n",
      " [ 1.56887609e+00  1.10306488e+00  1.16211917e+00]\n",
      " [-9.08957349e-01 -1.86635121e-01 -5.64073843e-01]\n",
      " [ 3.00679600e-03  4.29449843e-02 -5.27248393e-01]\n",
      " [ 8.33232798e-01  2.99534513e-01  1.05164281e+00]\n",
      " [ 1.05509347e+00 -1.22649795e+00 -3.24708413e-01]\n",
      " [-1.56286250e+00 -4.97243498e-01  8.76721921e-01]\n",
      " [ 9.48833887e-01 -4.29719938e-01 -2.00422516e-01]\n",
      " [-9.89527805e-01 -7.20071247e-01 -5.64073843e-01]\n",
      " [ 1.35285385e+00 -1.33453565e+00 -5.08835667e-01]\n",
      " [-4.83714657e-02  4.07572210e-01 -8.26455181e-01]\n",
      " [ 1.08662104e+00 -4.43224650e-01 -3.52327501e-01]\n",
      " [ 1.18820988e+00  2.59020377e-01 -3.52327501e-01]\n",
      " [-8.92609721e-01 -4.90491142e-01  4.71641962e-01]\n",
      " [ 1.70316018e+00  3.40048650e-01  5.82118314e-01]\n",
      " [-3.98677796e-01 -3.95958157e-01  3.70371972e-01]\n",
      " [-5.82004775e-01 -1.46958277e+00 -2.55016247e-02]\n",
      " [ 1.38438142e+00 -2.20396901e-01 -1.39264649e+00]\n",
      " [-5.99520091e-01 -1.47633512e+00 -1.06582061e+00]\n",
      " [ 1.67747105e+00 -1.29402151e+00 -1.01518562e+00]\n",
      " [ 1.39956136e+00  1.38666383e+00 -1.17629696e+00]\n",
      " [-8.44734522e-01  1.76479577e+00  6.97197848e-01]\n",
      " [-1.21372386e+00  2.32010953e-01  2.09260624e-01]\n",
      " [ 9.45330823e-01  9.74770116e-01  6.65620024e-02]\n",
      " [ 6.47570443e-01 -6.50927121e-02  4.81492770e-02]\n",
      " [ 3.49810063e-01  6.84418807e-01  3.74975153e-01]\n",
      " [ 1.71133400e+00  2.99534513e-01 -1.32359877e+00]\n",
      " [ 6.98948705e-01 -1.00367020e+00 -1.91216154e-01]\n",
      " [-1.42390765e+00  1.64487393e-01  5.86721496e-01]\n",
      " [ 3.27623995e-01 -5.15880000e-02  4.35460956e-02]\n",
      " [-6.69581357e-01 -9.02384859e-01  2.36879713e-01]\n",
      " [ 1.08428567e+00  1.23135965e+00 -5.54867481e-01]\n",
      " [ 9.35989321e-01 -5.03995854e-01  8.90531465e-01]\n",
      " [-9.35814168e-01 -7.80842451e-01  2.87514708e-01]\n",
      " [ 6.16042873e-01 -1.36154507e+00  1.86244718e-01]\n",
      " [-5.44638766e-01 -9.22641928e-01 -1.24074150e+00]\n",
      " [ 8.09879042e-01  1.24486436e+00  4.16403786e-01]\n",
      " [ 4.15200577e-01  1.54872038e+00  1.29561142e+00]\n",
      " [ 1.35051848e+00  3.73810430e-01 -6.74550196e-01]\n",
      " [ 6.05533683e-01  1.76479577e+00  1.35545278e+00]\n",
      " [-1.63175608e+00  3.26543937e-01  4.99261050e-01]\n",
      " [-1.26606546e-01 -2.74415749e-01 -6.42327927e-01]\n",
      " [ 7.44488528e-01  1.77830048e+00  3.28943340e-01]\n",
      " [ 7.43320840e-01  4.21076922e-01 -9.78360166e-01]\n",
      " [-1.09228433e+00 -1.43582099e+00 -4.21375221e-01]\n",
      " [ 1.33417085e+00  1.31238792e+00  1.11148417e+00]\n",
      " [ 1.07727954e+00 -5.24252922e-01 -1.49787521e-01]\n",
      " [-5.17781948e-01  4.27829278e-01 -1.01978880e+00]\n",
      " [-1.86158622e-01  1.31914027e+00 -7.61366196e-02]\n",
      " [-9.11292725e-01 -9.42898996e-01 -1.36502740e+00]\n",
      " [-1.34917564e+00  9.02114765e-02 -1.30518604e+00]\n",
      " [-9.04082253e-02 -5.91776482e-01 -9.36931533e-01]\n",
      " [ 1.05509347e+00  2.86029801e-01 -9.00106083e-01]\n",
      " [ 8.14549794e-01  1.39341619e+00 -1.54390703e-01]\n",
      " [ 6.07869059e-01  4.95352838e-01  3.74975153e-01]\n",
      " [-4.34876116e-01 -6.05281194e-01  5.27524584e-02]\n",
      " [-1.40405696e+00  6.57409383e-01 -5.18042030e-01]\n",
      " [-2.06009314e-01 -1.18598381e+00  3.43397329e-02]\n",
      " [ 7.74848409e-01  9.02114765e-02 -8.03439274e-01]\n",
      " [-1.51965805e+00  1.37991148e+00  2.70878810e+00]\n",
      " [-1.39588315e+00 -1.46283041e+00 -4.53597491e-01]\n",
      " [-3.09933525e-01  3.53553362e-01 -7.52804279e-01]\n",
      " [-1.65394214e+00  4.48086346e-01 -9.73756984e-01]\n",
      " [-3.62479475e-01 -1.05093669e+00 -3.43121138e-01]\n",
      " [-8.24883830e-01  2.32010953e-01 -3.79946589e-01]\n",
      " [ 1.08311798e+00 -1.29402151e+00  2.92117889e-01]\n",
      " [-8.37728396e-01 -2.00139833e-01  8.95779092e-02]\n",
      " [-9.18298852e-01  1.43393033e+00  2.32276531e-01]\n",
      " [ 7.76016097e-01  1.33264499e+00  1.49419267e-01]\n",
      " [ 5.38975481e-01 -3.28434597e-01  1.61783412e+00]\n",
      " [-8.26051518e-01  2.86029801e-01 -6.69947015e-01]\n",
      " [-4.24366926e-01  1.17058844e+00  1.50275459e+00]\n",
      " [-6.85928986e-01  1.50982681e-01  1.97227908e+00]\n",
      " [-4.34876116e-01  1.65675807e+00  9.59579186e-01]\n",
      " [-1.48792614e-01 -1.24000266e+00 -9.78360166e-01]\n",
      " [-1.38303858e+00 -1.46958277e+00  1.12593816e-01]\n",
      " [ 8.25058983e-01  6.91171163e-01  1.30942097e+00]\n",
      " [ 1.21273132e+00  8.93741844e-01  1.92164409e+00]\n",
      " [-4.62900623e-01 -6.25538262e-01 -9.04709264e-01]\n",
      " [ 1.89836839e-01  5.62876398e-01  1.02862691e+00]\n",
      " [ 5.90353742e-01 -1.33453565e+00 -1.13486833e+00]\n",
      " [ 4.42057396e-01 -1.52873340e-01 -3.93756133e-01]\n",
      " [ 1.66579418e+00  1.28537849e+00  9.50372823e-01]\n",
      " [-1.38283424e-01  1.24486436e+00  7.06404211e-01]\n",
      " [ 8.79940308e-01 -1.28051680e+00  8.85928284e-01]\n",
      " [ 1.74402926e+00  8.80237132e-01  3.23815396e+00]\n",
      " [ 1.55486384e+00 -8.88880147e-01 -4.21375221e-01]\n",
      " [ 4.77088029e-01 -4.09462869e-01 -5.82486569e-01]\n",
      " [ 1.06443498e+00  7.45190011e-01 -1.16248742e+00]\n",
      " [-1.06755854e-01  1.56222509e+00  1.30942097e+00]\n",
      " [-1.42507534e+00 -8.28108943e-01 -3.93111688e-02]\n",
      " [-6.61407543e-01 -1.55061104e+00 -3.38517957e-01]\n",
      " [-1.56403019e+00 -1.54385868e+00 -2.28041604e-01]\n",
      " [ 1.26527727e+00  2.45515665e-01 -1.15328106e+00]\n",
      " [ 9.19641692e-01 -1.01717491e+00  1.19434143e+00]\n",
      " [ 1.10530405e+00  9.95027184e-01 -3.38517957e-01]\n",
      " [ 3.34630122e-01 -5.31005278e-01 -1.29597968e+00]\n",
      " [ 7.30476274e-01 -1.79882765e-01 -9.13915627e-01]\n",
      " [-8.03865450e-01  1.58923451e+00  1.81641536e-01]\n",
      " [-8.40063771e-01  7.92456503e-01  1.01942054e+00]\n",
      " [-9.15759131e-02 -6.05281194e-01 -2.28041604e-01]\n",
      " [-8.24883830e-01 -1.51684926e+00 -7.25185191e-01]\n",
      " [-2.49213762e-01  9.20751268e-01  2.23926360e+00]\n",
      " [-1.49046586e+00 -4.90491142e-01 -3.79946589e-01]\n",
      " [-6.70544700e-02  2.38763309e-01  7.20213755e-01]\n",
      " [-1.49747198e+00 -1.05606848e-01  9.13547372e-01]\n",
      " [ 8.98623313e-01 -1.40881156e+00 -6.88359740e-01]\n",
      " [-2.79573643e-01  7.65447079e-01 -8.35661544e-01]\n",
      " [ 9.62846140e-01  6.10142891e-01  2.00910454e+00]\n",
      " [-6.98773552e-01 -7.74090095e-01 -2.14232060e-01]\n",
      " [-1.62591764e+00  1.05579839e+00  9.22753735e-01]\n",
      " [-7.80511695e-01 -1.57086811e+00 -9.82963347e-01]\n",
      " [ 8.55418865e-01  1.73778635e+00 -1.25915423e+00]\n",
      " [-1.02105537e+00 -7.60585383e-01  5.77515133e-01]\n",
      " [-1.70882347e+00  1.10306488e+00 -1.00597925e+00]\n",
      " [ 1.37971067e+00 -1.37504978e+00  5.72911952e-01]\n",
      " [-1.61891151e+00  2.65772733e-01 -1.30978922e+00]\n",
      " [ 8.49580427e-01  6.91171163e-01  6.69578760e-01]\n",
      " [-1.28612050e+00  1.03554132e+00  1.61323094e+00]\n",
      " [-1.15300409e+00  1.60273923e+00 -1.01518562e+00]\n",
      " [-1.41806922e+00  1.06255074e+00 -9.78360166e-01]\n",
      " [ 1.47896413e+00  3.80562786e-01  1.34164324e+00]\n",
      " [-1.21489154e+00  1.77992105e-01 -4.62803854e-01]\n",
      " [ 4.42057396e-01  1.39341619e+00 -1.32820195e+00]\n",
      " [-8.59914463e-01 -4.22967582e-01 -8.12645637e-01]\n",
      " [ 5.44813920e-01  8.19465927e-01  2.07354907e+00]\n",
      " [ 8.57754241e-01  6.70914095e-01  3.38149702e-01]\n",
      " [-4.95595880e-01 -1.18598381e+00  1.77038355e-01]\n",
      " [-5.93681653e-01 -5.71519414e-01  3.84181516e-01]\n",
      " [-7.87313476e-02 -1.44257334e+00 -9.92169710e-01]\n",
      " [ 1.08662104e+00 -1.07794612e+00 -1.00597925e+00]\n",
      " [ 1.12281936e+00  1.73778635e+00  6.32753309e-01]\n",
      " [-1.27327593e+00  1.15033137e+00 -8.58677450e-01]\n",
      " [-1.19504085e+00  1.71239749e-01 -4.58200672e-01]\n",
      " [ 1.56070228e+00 -6.32290618e-01  2.96721070e-01]\n",
      " [-3.04095087e-01 -1.00367020e+00  8.35293289e-01]\n",
      " [ 5.90353742e-01  2.43084817e-03 -7.52804279e-01]\n",
      " [ 2.83251860e-01  1.10981724e+00  3.28943340e-01]\n",
      " [ 4.75920341e-01 -1.46120984e-01 -9.69153803e-01]\n",
      " [-1.66912209e+00 -7.87594807e-01 -1.14407469e+00]\n",
      " [-6.20538471e-01  1.36640677e+00  9.18150553e-01]\n",
      " [ 3.21989902e-02 -1.48308748e+00 -2.87882962e-01]\n",
      " [-1.58037782e+00  9.20751268e-01  6.74181942e-01]\n",
      " [-1.79152496e-01 -3.28434597e-01  1.86244718e-01]\n",
      " [ 2.97264113e-01 -3.48691665e-01  6.72064478e-03]\n",
      " [-7.16288868e-01  8.46475352e-01  8.62912377e-01]\n",
      " [ 4.82926468e-01 -3.48691665e-01 -2.28041604e-01]\n",
      " [ 1.92172214e-01  9.13998912e-01 -1.06582061e+00]\n",
      " [-3.48467222e-01 -5.78271770e-01 -1.15788424e+00]\n",
      " [ 1.02123053e+00 -1.34128800e+00  2.49704176e+00]\n",
      " [-1.50798117e+00  9.68017760e-01 -4.12168859e-01]\n",
      " [ 6.97781017e-01 -1.21974559e+00 -5.13438849e-01]\n",
      " [ 7.98202165e-01  2.26879163e-02  1.24497643e+00]\n",
      " [ 1.60273904e+00 -8.55118367e-01 -1.11185242e+00]\n",
      " [-1.13315340e+00 -7.87594807e-01 -5.59470662e-01]\n",
      " [ 2.03849092e-01 -1.59625696e-01  7.75451931e-01]\n",
      " [-1.48813048e+00 -2.13644545e-01 -6.23915201e-01]\n",
      " [ 2.49388915e-01 -1.09145083e+00 -8.17248818e-01]\n",
      " [ 8.79940308e-01 -1.34128800e+00 -8.03439274e-01]\n",
      " [ 1.51633014e+00  1.73103399e+00  5.17673775e-01]\n",
      " [ 1.18353913e+00  4.68343414e-01 -4.72010216e-01]\n",
      " [ 2.70407294e-01 -1.04418434e+00  2.13863806e-01]\n",
      " [ 1.51399477e+00 -1.41556392e+00 -3.15502050e-01]\n",
      " [ 2.16693657e-01 -8.95632503e-01 -5.96296113e-01]\n",
      " [ 1.11601758e-01 -1.39530685e+00 -1.02439198e+00]\n",
      " [ 8.34400486e-01 -1.20624088e+00 -1.45184340e-01]\n",
      " [-1.06075676e+00 -1.18598381e+00 -3.93111688e-02]\n",
      " [ 1.64127273e+00  1.33264499e+00  1.89862818e+00]\n",
      " [ 1.24659427e+00 -1.32616272e-01 -2.55016247e-02]\n",
      " [ 6.76762637e-01  1.47444446e+00 -5.04232486e-01]\n",
      " [-8.80728498e-02 -1.42906863e+00 -1.82009791e-01]\n",
      " [ 5.14454038e-01  3.67058074e-01 -5.68677025e-01]\n",
      " [ 1.62258973e+00 -6.32290618e-01 -1.23613832e+00]\n",
      " [-1.49863967e+00 -7.53833027e-01 -3.29311594e-01]\n",
      " [-1.25576062e+00  1.20435022e+00 -1.13947151e+00]\n",
      " [-8.35393020e-01 -8.41613655e-01 -1.13026515e+00]\n",
      " [-1.51615499e+00 -1.29402151e+00  4.81492770e-02]\n",
      " [ 2.30705910e-01  1.26512143e+00 -1.24074150e+00]\n",
      " [ 3.10313024e-02  8.32970639e-01 -1.13026515e+00]\n",
      " [-1.27094056e+00 -1.32103093e+00 -7.71217005e-01]\n",
      " [-6.17035408e-01 -1.24000266e+00 -1.03359834e+00]\n",
      " [ 3.49810063e-01 -9.42898996e-01 -1.11185242e+00]\n",
      " [ 1.59456522e+00  1.26512143e+00  1.64085003e+00]\n",
      " [ 9.93206022e-01 -9.90165488e-01 -1.00597925e+00]]\n"
     ]
    }
   ],
   "source": [
    "from sklearn.preprocessing import StandardScaler\n",
    "\n",
    "scaler=StandardScaler()\n",
    "X=scaler.fit_transform(X)\n",
    "\n",
    "print(X)"
   ]
  },
  {
   "cell_type": "code",
   "execution_count": 51,
   "id": "8e449216",
   "metadata": {},
   "outputs": [],
   "source": [
    "from sklearn.model_selection import train_test_split\n",
    "\n",
    "#Split the data into test and train\n",
    "X_train, X_test, Y_train, Y_test = train_test_split(X, Y, test_size=0.2, random_state=10)\n"
   ]
  },
  {
   "cell_type": "code",
   "execution_count": 52,
   "id": "adec7ead",
   "metadata": {},
   "outputs": [
    {
     "name": "stdout",
     "output_type": "stream",
     "text": [
      "[14.00056539]\n",
      "[3.96282177 2.9563359  0.02107504]\n"
     ]
    }
   ],
   "source": [
    "from sklearn.linear_model import SGDRegressor\n",
    " \n",
    "lm = SGDRegressor(learning_rate=\"constant\",  \n",
    "                  #want to use a constant learning rate\n",
    "                  eta0=0.1,  #alpha\n",
    "                  shuffle=True, \n",
    "        #while going ahead with the next epoch shuffle the obs\n",
    "                  random_state=10, #set seed\n",
    "                  max_iter=1000, #max no of epochs\n",
    "                  early_stopping=True, \n",
    "                  #stop if zero convergence is reached first\n",
    "                  n_iter_no_change=5) \n",
    "        #no of obs to wait for before concluding upon early stopping\n",
    "lm.fit(X_train,Y_train)\n",
    " \n",
    " \n",
    "# print intercept and coefficients\n",
    "print (lm.intercept_)\n",
    "print (lm.coef_)"
   ]
  },
  {
   "cell_type": "code",
   "execution_count": 53,
   "id": "0d3ff2c6",
   "metadata": {},
   "outputs": [
    {
     "name": "stdout",
     "output_type": "stream",
     "text": [
      "R squared: 0.8440514160249312\n",
      "Root mean squared error: 2.5193340417009136\n",
      "Adjusted r: 0.8416644479028638\n"
     ]
    }
   ],
   "source": [
    "Y_pred_new=lm.predict(X_test)\n",
    "\n",
    "from sklearn.metrics import r2_score,mean_squared_error\n",
    "import numpy as np\n",
    "\n",
    "r2=r2_score(Y_test,Y_pred_new)\n",
    "print(\"R squared:\",r2)\n",
    "\n",
    "rmse=np.sqrt(mean_squared_error(Y_test,Y_pred_new))\n",
    "print(\"Root mean squared error:\",rmse)\n",
    "\n",
    "adjusted_r_squared = 1- (1-r2)*(len(Y)-1)/(len(Y)-X.shape[1]-1)\n",
    "print(\"Adjusted r:\",adjusted_r_squared)\n",
    "\n"
   ]
  },
  {
   "cell_type": "code",
   "execution_count": 54,
   "id": "4e85a8f0",
   "metadata": {},
   "outputs": [],
   "source": [
    "pd.set_option('display.float_format','{:.4f}'.format)"
   ]
  },
  {
   "cell_type": "code",
   "execution_count": 55,
   "id": "11a51feb",
   "metadata": {},
   "outputs": [
    {
     "data": {
      "text/plain": [
       "11"
      ]
     },
     "execution_count": 55,
     "metadata": {},
     "output_type": "execute_result"
    }
   ],
   "source": [
    "lm.n_iter_   #No of Epoch"
   ]
  },
  {
   "cell_type": "code",
   "execution_count": 56,
   "id": "78e3a4e4",
   "metadata": {},
   "outputs": [
    {
     "data": {
      "text/plain": [
       "1761.0"
      ]
     },
     "execution_count": 56,
     "metadata": {},
     "output_type": "execute_result"
    }
   ],
   "source": [
    "lm.t_        #No of Iterations"
   ]
  }
 ],
 "metadata": {
  "kernelspec": {
   "display_name": "Python 3 (ipykernel)",
   "language": "python",
   "name": "python3"
  },
  "language_info": {
   "codemirror_mode": {
    "name": "ipython",
    "version": 3
   },
   "file_extension": ".py",
   "mimetype": "text/x-python",
   "name": "python",
   "nbconvert_exporter": "python",
   "pygments_lexer": "ipython3",
   "version": "3.9.12"
  }
 },
 "nbformat": 4,
 "nbformat_minor": 5
}
