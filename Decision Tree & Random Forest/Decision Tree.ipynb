{
 "cells": [
  {
   "cell_type": "code",
   "execution_count": 1,
   "id": "137a313a",
   "metadata": {},
   "outputs": [],
   "source": [
    "import pandas as pd\n",
    "import numpy as np\n",
    "import seaborn as sns\n",
    "import matplotlib.pyplot as plt\n",
    "from sklearn.preprocessing import StandardScaler\n",
    "from sklearn.preprocessing import LabelEncoder\n",
    "from sklearn.linear_model import SGDClassifier\n",
    "import warnings\n",
    "warnings.filterwarnings(\"ignore\")"
   ]
  },
  {
   "cell_type": "code",
   "execution_count": 2,
   "id": "e46894d1",
   "metadata": {},
   "outputs": [],
   "source": [
    "cars_train=pd.read_csv(r'cars_train.csv',header=None)\n",
    "cars_test=pd.read_csv(r'cars_test.csv',header=None)"
   ]
  },
  {
   "cell_type": "code",
   "execution_count": 3,
   "id": "8cc07b76",
   "metadata": {},
   "outputs": [
    {
     "data": {
      "text/html": [
       "<div>\n",
       "<style scoped>\n",
       "    .dataframe tbody tr th:only-of-type {\n",
       "        vertical-align: middle;\n",
       "    }\n",
       "\n",
       "    .dataframe tbody tr th {\n",
       "        vertical-align: top;\n",
       "    }\n",
       "\n",
       "    .dataframe thead th {\n",
       "        text-align: right;\n",
       "    }\n",
       "</style>\n",
       "<table border=\"1\" class=\"dataframe\">\n",
       "  <thead>\n",
       "    <tr style=\"text-align: right;\">\n",
       "      <th></th>\n",
       "      <th>0</th>\n",
       "      <th>1</th>\n",
       "      <th>2</th>\n",
       "      <th>3</th>\n",
       "      <th>4</th>\n",
       "      <th>5</th>\n",
       "      <th>6</th>\n",
       "    </tr>\n",
       "  </thead>\n",
       "  <tbody>\n",
       "    <tr>\n",
       "      <th>0</th>\n",
       "      <td>vhigh</td>\n",
       "      <td>high</td>\n",
       "      <td>3</td>\n",
       "      <td>more</td>\n",
       "      <td>small</td>\n",
       "      <td>low</td>\n",
       "      <td>unacc</td>\n",
       "    </tr>\n",
       "    <tr>\n",
       "      <th>1</th>\n",
       "      <td>low</td>\n",
       "      <td>vhigh</td>\n",
       "      <td>3</td>\n",
       "      <td>4</td>\n",
       "      <td>small</td>\n",
       "      <td>med</td>\n",
       "      <td>unacc</td>\n",
       "    </tr>\n",
       "    <tr>\n",
       "      <th>2</th>\n",
       "      <td>low</td>\n",
       "      <td>high</td>\n",
       "      <td>5more</td>\n",
       "      <td>more</td>\n",
       "      <td>big</td>\n",
       "      <td>low</td>\n",
       "      <td>unacc</td>\n",
       "    </tr>\n",
       "    <tr>\n",
       "      <th>3</th>\n",
       "      <td>high</td>\n",
       "      <td>med</td>\n",
       "      <td>4</td>\n",
       "      <td>2</td>\n",
       "      <td>small</td>\n",
       "      <td>med</td>\n",
       "      <td>unacc</td>\n",
       "    </tr>\n",
       "    <tr>\n",
       "      <th>4</th>\n",
       "      <td>low</td>\n",
       "      <td>low</td>\n",
       "      <td>3</td>\n",
       "      <td>more</td>\n",
       "      <td>big</td>\n",
       "      <td>med</td>\n",
       "      <td>good</td>\n",
       "    </tr>\n",
       "  </tbody>\n",
       "</table>\n",
       "</div>"
      ],
      "text/plain": [
       "       0      1      2     3      4    5      6\n",
       "0  vhigh   high      3  more  small  low  unacc\n",
       "1    low  vhigh      3     4  small  med  unacc\n",
       "2    low   high  5more  more    big  low  unacc\n",
       "3   high    med      4     2  small  med  unacc\n",
       "4    low    low      3  more    big  med   good"
      ]
     },
     "execution_count": 3,
     "metadata": {},
     "output_type": "execute_result"
    }
   ],
   "source": [
    "cars_train.head()"
   ]
  },
  {
   "cell_type": "code",
   "execution_count": 4,
   "id": "84b21b84",
   "metadata": {},
   "outputs": [
    {
     "data": {
      "text/html": [
       "<div>\n",
       "<style scoped>\n",
       "    .dataframe tbody tr th:only-of-type {\n",
       "        vertical-align: middle;\n",
       "    }\n",
       "\n",
       "    .dataframe tbody tr th {\n",
       "        vertical-align: top;\n",
       "    }\n",
       "\n",
       "    .dataframe thead th {\n",
       "        text-align: right;\n",
       "    }\n",
       "</style>\n",
       "<table border=\"1\" class=\"dataframe\">\n",
       "  <thead>\n",
       "    <tr style=\"text-align: right;\">\n",
       "      <th></th>\n",
       "      <th>0</th>\n",
       "      <th>1</th>\n",
       "      <th>2</th>\n",
       "      <th>3</th>\n",
       "      <th>4</th>\n",
       "      <th>5</th>\n",
       "      <th>6</th>\n",
       "    </tr>\n",
       "  </thead>\n",
       "  <tbody>\n",
       "    <tr>\n",
       "      <th>0</th>\n",
       "      <td>med</td>\n",
       "      <td>vhigh</td>\n",
       "      <td>5more</td>\n",
       "      <td>4</td>\n",
       "      <td>small</td>\n",
       "      <td>low</td>\n",
       "      <td>unacc</td>\n",
       "    </tr>\n",
       "    <tr>\n",
       "      <th>1</th>\n",
       "      <td>vhigh</td>\n",
       "      <td>high</td>\n",
       "      <td>2</td>\n",
       "      <td>2</td>\n",
       "      <td>big</td>\n",
       "      <td>med</td>\n",
       "      <td>unacc</td>\n",
       "    </tr>\n",
       "    <tr>\n",
       "      <th>2</th>\n",
       "      <td>low</td>\n",
       "      <td>high</td>\n",
       "      <td>2</td>\n",
       "      <td>more</td>\n",
       "      <td>small</td>\n",
       "      <td>low</td>\n",
       "      <td>unacc</td>\n",
       "    </tr>\n",
       "    <tr>\n",
       "      <th>3</th>\n",
       "      <td>vhigh</td>\n",
       "      <td>vhigh</td>\n",
       "      <td>3</td>\n",
       "      <td>2</td>\n",
       "      <td>big</td>\n",
       "      <td>high</td>\n",
       "      <td>unacc</td>\n",
       "    </tr>\n",
       "    <tr>\n",
       "      <th>4</th>\n",
       "      <td>low</td>\n",
       "      <td>med</td>\n",
       "      <td>4</td>\n",
       "      <td>4</td>\n",
       "      <td>med</td>\n",
       "      <td>med</td>\n",
       "      <td>good</td>\n",
       "    </tr>\n",
       "  </tbody>\n",
       "</table>\n",
       "</div>"
      ],
      "text/plain": [
       "       0      1      2     3      4     5      6\n",
       "0    med  vhigh  5more     4  small   low  unacc\n",
       "1  vhigh   high      2     2    big   med  unacc\n",
       "2    low   high      2  more  small   low  unacc\n",
       "3  vhigh  vhigh      3     2    big  high  unacc\n",
       "4    low    med      4     4    med   med   good"
      ]
     },
     "execution_count": 4,
     "metadata": {},
     "output_type": "execute_result"
    }
   ],
   "source": [
    "cars_test.head()"
   ]
  },
  {
   "cell_type": "code",
   "execution_count": 5,
   "id": "7a52ba90",
   "metadata": {},
   "outputs": [],
   "source": [
    "cars_train.columns=['buying','maint','doors','persons','lug_boot','safety','classes']\n",
    "cars_test.columns=['buying','maint','doors','persons','lug_boot','safety','classes']"
   ]
  },
  {
   "cell_type": "code",
   "execution_count": 6,
   "id": "8f05c372",
   "metadata": {},
   "outputs": [
    {
     "data": {
      "text/html": [
       "<div>\n",
       "<style scoped>\n",
       "    .dataframe tbody tr th:only-of-type {\n",
       "        vertical-align: middle;\n",
       "    }\n",
       "\n",
       "    .dataframe tbody tr th {\n",
       "        vertical-align: top;\n",
       "    }\n",
       "\n",
       "    .dataframe thead th {\n",
       "        text-align: right;\n",
       "    }\n",
       "</style>\n",
       "<table border=\"1\" class=\"dataframe\">\n",
       "  <thead>\n",
       "    <tr style=\"text-align: right;\">\n",
       "      <th></th>\n",
       "      <th>buying</th>\n",
       "      <th>maint</th>\n",
       "      <th>doors</th>\n",
       "      <th>persons</th>\n",
       "      <th>lug_boot</th>\n",
       "      <th>safety</th>\n",
       "      <th>classes</th>\n",
       "    </tr>\n",
       "  </thead>\n",
       "  <tbody>\n",
       "    <tr>\n",
       "      <th>0</th>\n",
       "      <td>vhigh</td>\n",
       "      <td>high</td>\n",
       "      <td>3</td>\n",
       "      <td>more</td>\n",
       "      <td>small</td>\n",
       "      <td>low</td>\n",
       "      <td>unacc</td>\n",
       "    </tr>\n",
       "    <tr>\n",
       "      <th>1</th>\n",
       "      <td>low</td>\n",
       "      <td>vhigh</td>\n",
       "      <td>3</td>\n",
       "      <td>4</td>\n",
       "      <td>small</td>\n",
       "      <td>med</td>\n",
       "      <td>unacc</td>\n",
       "    </tr>\n",
       "    <tr>\n",
       "      <th>2</th>\n",
       "      <td>low</td>\n",
       "      <td>high</td>\n",
       "      <td>5more</td>\n",
       "      <td>more</td>\n",
       "      <td>big</td>\n",
       "      <td>low</td>\n",
       "      <td>unacc</td>\n",
       "    </tr>\n",
       "    <tr>\n",
       "      <th>3</th>\n",
       "      <td>high</td>\n",
       "      <td>med</td>\n",
       "      <td>4</td>\n",
       "      <td>2</td>\n",
       "      <td>small</td>\n",
       "      <td>med</td>\n",
       "      <td>unacc</td>\n",
       "    </tr>\n",
       "    <tr>\n",
       "      <th>4</th>\n",
       "      <td>low</td>\n",
       "      <td>low</td>\n",
       "      <td>3</td>\n",
       "      <td>more</td>\n",
       "      <td>big</td>\n",
       "      <td>med</td>\n",
       "      <td>good</td>\n",
       "    </tr>\n",
       "    <tr>\n",
       "      <th>...</th>\n",
       "      <td>...</td>\n",
       "      <td>...</td>\n",
       "      <td>...</td>\n",
       "      <td>...</td>\n",
       "      <td>...</td>\n",
       "      <td>...</td>\n",
       "      <td>...</td>\n",
       "    </tr>\n",
       "    <tr>\n",
       "      <th>1377</th>\n",
       "      <td>low</td>\n",
       "      <td>vhigh</td>\n",
       "      <td>5more</td>\n",
       "      <td>4</td>\n",
       "      <td>big</td>\n",
       "      <td>med</td>\n",
       "      <td>acc</td>\n",
       "    </tr>\n",
       "    <tr>\n",
       "      <th>1378</th>\n",
       "      <td>low</td>\n",
       "      <td>vhigh</td>\n",
       "      <td>3</td>\n",
       "      <td>more</td>\n",
       "      <td>med</td>\n",
       "      <td>low</td>\n",
       "      <td>unacc</td>\n",
       "    </tr>\n",
       "    <tr>\n",
       "      <th>1379</th>\n",
       "      <td>high</td>\n",
       "      <td>vhigh</td>\n",
       "      <td>5more</td>\n",
       "      <td>4</td>\n",
       "      <td>med</td>\n",
       "      <td>high</td>\n",
       "      <td>unacc</td>\n",
       "    </tr>\n",
       "    <tr>\n",
       "      <th>1380</th>\n",
       "      <td>med</td>\n",
       "      <td>med</td>\n",
       "      <td>4</td>\n",
       "      <td>4</td>\n",
       "      <td>big</td>\n",
       "      <td>low</td>\n",
       "      <td>unacc</td>\n",
       "    </tr>\n",
       "    <tr>\n",
       "      <th>1381</th>\n",
       "      <td>med</td>\n",
       "      <td>low</td>\n",
       "      <td>5more</td>\n",
       "      <td>more</td>\n",
       "      <td>small</td>\n",
       "      <td>high</td>\n",
       "      <td>good</td>\n",
       "    </tr>\n",
       "  </tbody>\n",
       "</table>\n",
       "<p>1382 rows × 7 columns</p>\n",
       "</div>"
      ],
      "text/plain": [
       "     buying  maint  doors persons lug_boot safety classes\n",
       "0     vhigh   high      3    more    small    low   unacc\n",
       "1       low  vhigh      3       4    small    med   unacc\n",
       "2       low   high  5more    more      big    low   unacc\n",
       "3      high    med      4       2    small    med   unacc\n",
       "4       low    low      3    more      big    med    good\n",
       "...     ...    ...    ...     ...      ...    ...     ...\n",
       "1377    low  vhigh  5more       4      big    med     acc\n",
       "1378    low  vhigh      3    more      med    low   unacc\n",
       "1379   high  vhigh  5more       4      med   high   unacc\n",
       "1380    med    med      4       4      big    low   unacc\n",
       "1381    med    low  5more    more    small   high    good\n",
       "\n",
       "[1382 rows x 7 columns]"
      ]
     },
     "execution_count": 6,
     "metadata": {},
     "output_type": "execute_result"
    }
   ],
   "source": [
    "cars_train"
   ]
  },
  {
   "cell_type": "code",
   "execution_count": 7,
   "id": "45354b17",
   "metadata": {},
   "outputs": [
    {
     "data": {
      "text/plain": [
       "buying      0\n",
       "maint       0\n",
       "doors       0\n",
       "persons     0\n",
       "lug_boot    0\n",
       "safety      0\n",
       "classes     0\n",
       "dtype: int64"
      ]
     },
     "execution_count": 7,
     "metadata": {},
     "output_type": "execute_result"
    }
   ],
   "source": [
    "#Checking for missing values\n",
    "cars_train.isnull().sum()"
   ]
  },
  {
   "cell_type": "code",
   "execution_count": 8,
   "id": "06d2649c",
   "metadata": {},
   "outputs": [
    {
     "data": {
      "text/plain": [
       "buying      0\n",
       "maint       0\n",
       "doors       0\n",
       "persons     0\n",
       "lug_boot    0\n",
       "safety      0\n",
       "classes     0\n",
       "dtype: int64"
      ]
     },
     "execution_count": 8,
     "metadata": {},
     "output_type": "execute_result"
    }
   ],
   "source": [
    "cars_test.isnull().sum()"
   ]
  },
  {
   "cell_type": "code",
   "execution_count": 9,
   "id": "8f2562d7",
   "metadata": {},
   "outputs": [],
   "source": [
    "cars_test.drop('classes',axis=1,inplace=True)\n",
    "#remoe the Y variable bcuase we need to predict it"
   ]
  },
  {
   "cell_type": "code",
   "execution_count": 10,
   "id": "902564be",
   "metadata": {},
   "outputs": [
    {
     "data": {
      "text/html": [
       "<div>\n",
       "<style scoped>\n",
       "    .dataframe tbody tr th:only-of-type {\n",
       "        vertical-align: middle;\n",
       "    }\n",
       "\n",
       "    .dataframe tbody tr th {\n",
       "        vertical-align: top;\n",
       "    }\n",
       "\n",
       "    .dataframe thead th {\n",
       "        text-align: right;\n",
       "    }\n",
       "</style>\n",
       "<table border=\"1\" class=\"dataframe\">\n",
       "  <thead>\n",
       "    <tr style=\"text-align: right;\">\n",
       "      <th></th>\n",
       "      <th>buying</th>\n",
       "      <th>maint</th>\n",
       "      <th>doors</th>\n",
       "      <th>persons</th>\n",
       "      <th>lug_boot</th>\n",
       "      <th>safety</th>\n",
       "    </tr>\n",
       "  </thead>\n",
       "  <tbody>\n",
       "    <tr>\n",
       "      <th>0</th>\n",
       "      <td>med</td>\n",
       "      <td>vhigh</td>\n",
       "      <td>5more</td>\n",
       "      <td>4</td>\n",
       "      <td>small</td>\n",
       "      <td>low</td>\n",
       "    </tr>\n",
       "    <tr>\n",
       "      <th>1</th>\n",
       "      <td>vhigh</td>\n",
       "      <td>high</td>\n",
       "      <td>2</td>\n",
       "      <td>2</td>\n",
       "      <td>big</td>\n",
       "      <td>med</td>\n",
       "    </tr>\n",
       "    <tr>\n",
       "      <th>2</th>\n",
       "      <td>low</td>\n",
       "      <td>high</td>\n",
       "      <td>2</td>\n",
       "      <td>more</td>\n",
       "      <td>small</td>\n",
       "      <td>low</td>\n",
       "    </tr>\n",
       "    <tr>\n",
       "      <th>3</th>\n",
       "      <td>vhigh</td>\n",
       "      <td>vhigh</td>\n",
       "      <td>3</td>\n",
       "      <td>2</td>\n",
       "      <td>big</td>\n",
       "      <td>high</td>\n",
       "    </tr>\n",
       "    <tr>\n",
       "      <th>4</th>\n",
       "      <td>low</td>\n",
       "      <td>med</td>\n",
       "      <td>4</td>\n",
       "      <td>4</td>\n",
       "      <td>med</td>\n",
       "      <td>med</td>\n",
       "    </tr>\n",
       "  </tbody>\n",
       "</table>\n",
       "</div>"
      ],
      "text/plain": [
       "  buying  maint  doors persons lug_boot safety\n",
       "0    med  vhigh  5more       4    small    low\n",
       "1  vhigh   high      2       2      big    med\n",
       "2    low   high      2    more    small    low\n",
       "3  vhigh  vhigh      3       2      big   high\n",
       "4    low    med      4       4      med    med"
      ]
     },
     "execution_count": 10,
     "metadata": {},
     "output_type": "execute_result"
    }
   ],
   "source": [
    "cars_test.head()"
   ]
  },
  {
   "cell_type": "code",
   "execution_count": 59,
   "id": "5641098d",
   "metadata": {},
   "outputs": [
    {
     "data": {
      "text/plain": [
       "2    466\n",
       "1    462\n",
       "0    454\n",
       "Name: persons, dtype: int64"
      ]
     },
     "execution_count": 59,
     "metadata": {},
     "output_type": "execute_result"
    }
   ],
   "source": [
    "cars_train.persons.value_counts()"
   ]
  },
  {
   "cell_type": "code",
   "execution_count": 61,
   "id": "be85926c",
   "metadata": {},
   "outputs": [
    {
     "data": {
      "text/plain": [
       "0    463\n",
       "2    461\n",
       "1    458\n",
       "Name: safety, dtype: int64"
      ]
     },
     "execution_count": 61,
     "metadata": {},
     "output_type": "execute_result"
    }
   ],
   "source": [
    "cars_train.safety.value_counts()"
   ]
  },
  {
   "cell_type": "code",
   "execution_count": 11,
   "id": "347e02cb",
   "metadata": {},
   "outputs": [
    {
     "data": {
      "text/plain": [
       "Index(['buying', 'maint', 'doors', 'persons', 'lug_boot', 'safety', 'classes'], dtype='object')"
      ]
     },
     "execution_count": 11,
     "metadata": {},
     "output_type": "execute_result"
    }
   ],
   "source": [
    "colname=cars_train.columns\n",
    "colname"
   ]
  },
  {
   "cell_type": "code",
   "execution_count": 12,
   "id": "d5d2318c",
   "metadata": {},
   "outputs": [],
   "source": [
    "from sklearn.preprocessing import LabelEncoder\n",
    "le = LabelEncoder()\n",
    "\n",
    "for x in colname:\n",
    "    cars_train[x]=le.fit_transform(cars_train[x])"
   ]
  },
  {
   "cell_type": "code",
   "execution_count": 13,
   "id": "dbea19a9",
   "metadata": {},
   "outputs": [
    {
     "data": {
      "text/html": [
       "<div>\n",
       "<style scoped>\n",
       "    .dataframe tbody tr th:only-of-type {\n",
       "        vertical-align: middle;\n",
       "    }\n",
       "\n",
       "    .dataframe tbody tr th {\n",
       "        vertical-align: top;\n",
       "    }\n",
       "\n",
       "    .dataframe thead th {\n",
       "        text-align: right;\n",
       "    }\n",
       "</style>\n",
       "<table border=\"1\" class=\"dataframe\">\n",
       "  <thead>\n",
       "    <tr style=\"text-align: right;\">\n",
       "      <th></th>\n",
       "      <th>buying</th>\n",
       "      <th>maint</th>\n",
       "      <th>doors</th>\n",
       "      <th>persons</th>\n",
       "      <th>lug_boot</th>\n",
       "      <th>safety</th>\n",
       "      <th>classes</th>\n",
       "    </tr>\n",
       "  </thead>\n",
       "  <tbody>\n",
       "    <tr>\n",
       "      <th>0</th>\n",
       "      <td>3</td>\n",
       "      <td>0</td>\n",
       "      <td>1</td>\n",
       "      <td>2</td>\n",
       "      <td>2</td>\n",
       "      <td>1</td>\n",
       "      <td>2</td>\n",
       "    </tr>\n",
       "    <tr>\n",
       "      <th>1</th>\n",
       "      <td>1</td>\n",
       "      <td>3</td>\n",
       "      <td>1</td>\n",
       "      <td>1</td>\n",
       "      <td>2</td>\n",
       "      <td>2</td>\n",
       "      <td>2</td>\n",
       "    </tr>\n",
       "    <tr>\n",
       "      <th>2</th>\n",
       "      <td>1</td>\n",
       "      <td>0</td>\n",
       "      <td>3</td>\n",
       "      <td>2</td>\n",
       "      <td>0</td>\n",
       "      <td>1</td>\n",
       "      <td>2</td>\n",
       "    </tr>\n",
       "    <tr>\n",
       "      <th>3</th>\n",
       "      <td>0</td>\n",
       "      <td>2</td>\n",
       "      <td>2</td>\n",
       "      <td>0</td>\n",
       "      <td>2</td>\n",
       "      <td>2</td>\n",
       "      <td>2</td>\n",
       "    </tr>\n",
       "    <tr>\n",
       "      <th>4</th>\n",
       "      <td>1</td>\n",
       "      <td>1</td>\n",
       "      <td>1</td>\n",
       "      <td>2</td>\n",
       "      <td>0</td>\n",
       "      <td>2</td>\n",
       "      <td>1</td>\n",
       "    </tr>\n",
       "  </tbody>\n",
       "</table>\n",
       "</div>"
      ],
      "text/plain": [
       "   buying  maint  doors  persons  lug_boot  safety  classes\n",
       "0       3      0      1        2         2       1        2\n",
       "1       1      3      1        1         2       2        2\n",
       "2       1      0      3        2         0       1        2\n",
       "3       0      2      2        0         2       2        2\n",
       "4       1      1      1        2         0       2        1"
      ]
     },
     "execution_count": 13,
     "metadata": {},
     "output_type": "execute_result"
    }
   ],
   "source": [
    "cars_train.head()"
   ]
  },
  {
   "cell_type": "code",
   "execution_count": 14,
   "id": "98ac67b1",
   "metadata": {},
   "outputs": [
    {
     "data": {
      "text/plain": [
       "Index(['buying', 'maint', 'doors', 'persons', 'lug_boot', 'safety'], dtype='object')"
      ]
     },
     "execution_count": 14,
     "metadata": {},
     "output_type": "execute_result"
    }
   ],
   "source": [
    "colname1=cars_test.columns\n",
    "colname1"
   ]
  },
  {
   "cell_type": "code",
   "execution_count": 15,
   "id": "c9b8c871",
   "metadata": {},
   "outputs": [],
   "source": [
    "from sklearn.preprocessing import LabelEncoder\n",
    "le = LabelEncoder()\n",
    "\n",
    "for x in colname1:\n",
    "    cars_test[x]=le.fit_transform(cars_test[x])"
   ]
  },
  {
   "cell_type": "code",
   "execution_count": 16,
   "id": "228de145",
   "metadata": {},
   "outputs": [
    {
     "data": {
      "text/html": [
       "<div>\n",
       "<style scoped>\n",
       "    .dataframe tbody tr th:only-of-type {\n",
       "        vertical-align: middle;\n",
       "    }\n",
       "\n",
       "    .dataframe tbody tr th {\n",
       "        vertical-align: top;\n",
       "    }\n",
       "\n",
       "    .dataframe thead th {\n",
       "        text-align: right;\n",
       "    }\n",
       "</style>\n",
       "<table border=\"1\" class=\"dataframe\">\n",
       "  <thead>\n",
       "    <tr style=\"text-align: right;\">\n",
       "      <th></th>\n",
       "      <th>buying</th>\n",
       "      <th>maint</th>\n",
       "      <th>doors</th>\n",
       "      <th>persons</th>\n",
       "      <th>lug_boot</th>\n",
       "      <th>safety</th>\n",
       "    </tr>\n",
       "  </thead>\n",
       "  <tbody>\n",
       "    <tr>\n",
       "      <th>0</th>\n",
       "      <td>2</td>\n",
       "      <td>3</td>\n",
       "      <td>3</td>\n",
       "      <td>1</td>\n",
       "      <td>2</td>\n",
       "      <td>1</td>\n",
       "    </tr>\n",
       "    <tr>\n",
       "      <th>1</th>\n",
       "      <td>3</td>\n",
       "      <td>0</td>\n",
       "      <td>0</td>\n",
       "      <td>0</td>\n",
       "      <td>0</td>\n",
       "      <td>2</td>\n",
       "    </tr>\n",
       "    <tr>\n",
       "      <th>2</th>\n",
       "      <td>1</td>\n",
       "      <td>0</td>\n",
       "      <td>0</td>\n",
       "      <td>2</td>\n",
       "      <td>2</td>\n",
       "      <td>1</td>\n",
       "    </tr>\n",
       "    <tr>\n",
       "      <th>3</th>\n",
       "      <td>3</td>\n",
       "      <td>3</td>\n",
       "      <td>1</td>\n",
       "      <td>0</td>\n",
       "      <td>0</td>\n",
       "      <td>0</td>\n",
       "    </tr>\n",
       "    <tr>\n",
       "      <th>4</th>\n",
       "      <td>1</td>\n",
       "      <td>2</td>\n",
       "      <td>2</td>\n",
       "      <td>1</td>\n",
       "      <td>1</td>\n",
       "      <td>2</td>\n",
       "    </tr>\n",
       "  </tbody>\n",
       "</table>\n",
       "</div>"
      ],
      "text/plain": [
       "   buying  maint  doors  persons  lug_boot  safety\n",
       "0       2      3      3        1         2       1\n",
       "1       3      0      0        0         0       2\n",
       "2       1      0      0        2         2       1\n",
       "3       3      3      1        0         0       0\n",
       "4       1      2      2        1         1       2"
      ]
     },
     "execution_count": 16,
     "metadata": {},
     "output_type": "execute_result"
    }
   ],
   "source": [
    "cars_test.head()"
   ]
  },
  {
   "cell_type": "code",
   "execution_count": 17,
   "id": "1014c650",
   "metadata": {},
   "outputs": [],
   "source": [
    "X = cars_train.values[:,0:-1]\n",
    "Y = cars_train.values[:,-1]\n",
    "Y = Y.astype(int)"
   ]
  },
  {
   "cell_type": "code",
   "execution_count": 18,
   "id": "587f46cb",
   "metadata": {},
   "outputs": [
    {
     "data": {
      "text/plain": [
       "(1382, 6)"
      ]
     },
     "execution_count": 18,
     "metadata": {},
     "output_type": "execute_result"
    }
   ],
   "source": [
    "X.shape"
   ]
  },
  {
   "cell_type": "code",
   "execution_count": 19,
   "id": "cd0a69a9",
   "metadata": {},
   "outputs": [],
   "source": [
    "from sklearn.preprocessing import StandardScaler\n",
    "\n",
    "scaler=StandardScaler()\n",
    "scaler.fit(X)\n",
    "X= scaler.transform(X)\n"
   ]
  },
  {
   "cell_type": "code",
   "execution_count": 20,
   "id": "0c5583ff",
   "metadata": {},
   "outputs": [
    {
     "data": {
      "text/plain": [
       "array([[ 1.33507272, -1.3488262 , -0.45682233,  1.21505861,  1.22565305,\n",
       "         0.00176987],\n",
       "       [-0.44760409,  1.32688358, -0.45682233, -0.01064285,  1.22565305,\n",
       "         1.22474807],\n",
       "       [-0.44760409, -1.3488262 ,  1.33418038,  1.21505861, -1.21505663,\n",
       "         0.00176987],\n",
       "       ...,\n",
       "       [-1.33894249,  1.32688358,  1.33418038, -0.01064285,  0.00529821,\n",
       "        -1.22120833],\n",
       "       [ 0.44373431,  0.43498032,  0.43867903, -0.01064285, -1.21505663,\n",
       "         0.00176987],\n",
       "       [ 0.44373431, -0.45692294,  1.33418038,  1.21505861,  1.22565305,\n",
       "        -1.22120833]])"
      ]
     },
     "execution_count": 20,
     "metadata": {},
     "output_type": "execute_result"
    }
   ],
   "source": [
    "X"
   ]
  },
  {
   "cell_type": "code",
   "execution_count": 21,
   "id": "502a66c2",
   "metadata": {},
   "outputs": [],
   "source": [
    "from sklearn.model_selection import train_test_split\n",
    "\n",
    "X_train,X_test,Y_train,Y_test= train_test_split(X, Y, test_size=0.2, random_state=10)"
   ]
  },
  {
   "cell_type": "code",
   "execution_count": 62,
   "id": "942e5325",
   "metadata": {},
   "outputs": [
    {
     "data": {
      "text/plain": [
       "(1105, 6)"
      ]
     },
     "execution_count": 62,
     "metadata": {},
     "output_type": "execute_result"
    }
   ],
   "source": [
    "X_train.shape"
   ]
  },
  {
   "cell_type": "markdown",
   "id": "a6cc896c",
   "metadata": {},
   "source": [
    "## Running Decision Tree Model "
   ]
  },
  {
   "cell_type": "code",
   "execution_count": 22,
   "id": "ddf532ff",
   "metadata": {},
   "outputs": [],
   "source": [
    "from sklearn.tree import DecisionTreeClassifier\n",
    "\n",
    "model_DecisionTree= DecisionTreeClassifier(criterion='gini',\n",
    "                                           random_state=10,\n",
    "                                           splitter=\"best\" )\n",
    "\n",
    "model_DecisionTree.fit(X_train,Y_train)\n",
    "Y_pred=model_DecisionTree.predict(X_test)\n",
    "#print(Y_pred)\n",
    "#print(list(zip(Y_test,Y_pred)))\n",
    "\n",
    "# Hyper parameters can be tuned with the help of grid search Validation\n",
    "\n",
    "# If the score function and the accuracy shows a major difference\n",
    "#If the plotted tree has a lot of leaf loads consisting of one or two observations"
   ]
  },
  {
   "cell_type": "code",
   "execution_count": 23,
   "id": "60887e2a",
   "metadata": {},
   "outputs": [
    {
     "name": "stdout",
     "output_type": "stream",
     "text": [
      "Confusion matrix by Log Reg:\n",
      "[[ 69   1   1   0]\n",
      " [  4   8   0   0]\n",
      " [  0   0 185   0]\n",
      " [  0   0   0   9]]\n",
      "Classfication rep by Log reg:\n",
      "              precision    recall  f1-score   support\n",
      "\n",
      "           0       0.95      0.97      0.96        71\n",
      "           1       0.89      0.67      0.76        12\n",
      "           2       0.99      1.00      1.00       185\n",
      "           3       1.00      1.00      1.00         9\n",
      "\n",
      "    accuracy                           0.98       277\n",
      "   macro avg       0.96      0.91      0.93       277\n",
      "weighted avg       0.98      0.98      0.98       277\n",
      "\n",
      "Accuracy score by Log reg: 0.9783393501805054\n"
     ]
    }
   ],
   "source": [
    "from sklearn.metrics import confusion_matrix,accuracy_score,classification_report\n",
    "cfmlr=confusion_matrix(Y_test,Y_pred)\n",
    "print(\"Confusion matrix by Log Reg:\")\n",
    "print(cfmlr)\n",
    "class_rlr=classification_report(Y_test,Y_pred)\n",
    "print(\"Classfication rep by Log reg:\")\n",
    "print(class_rlr)\n",
    "acc_slr=accuracy_score(Y_test,Y_pred)\n",
    "print(\"Accuracy score by Log reg:\",acc_slr)"
   ]
  },
  {
   "cell_type": "code",
   "execution_count": 24,
   "id": "d3b6855c",
   "metadata": {},
   "outputs": [
    {
     "data": {
      "text/plain": [
       "1.0"
      ]
     },
     "execution_count": 24,
     "metadata": {},
     "output_type": "execute_result"
    }
   ],
   "source": [
    "model_DecisionTree.score(X_train,Y_train)\n",
    "#If there is high difference between Accuracy and score then the model is overfitted\n",
    "#Here the accuracy is 0.9783 and score is 1.0 thus the difference is low, the model is not overfitted"
   ]
  },
  {
   "cell_type": "code",
   "execution_count": 25,
   "id": "63b98a0d",
   "metadata": {},
   "outputs": [
    {
     "name": "stdout",
     "output_type": "stream",
     "text": [
      "[('buying', 0.21976792783843332), ('maint', 0.18220929667385857), ('doors', 0.062005934167191426), ('persons', 0.19425872158174767), ('lug_boot', 0.09772725134941933), ('safety', 0.24403086838934968)]\n"
     ]
    }
   ],
   "source": [
    "print((list(zip(cars_train.columns[0:-1],\n",
    "              model_DecisionTree.feature_importances_))))"
   ]
  },
  {
   "cell_type": "code",
   "execution_count": 26,
   "id": "6b58a50d",
   "metadata": {},
   "outputs": [
    {
     "data": {
      "text/html": [
       "<div>\n",
       "<style scoped>\n",
       "    .dataframe tbody tr th:only-of-type {\n",
       "        vertical-align: middle;\n",
       "    }\n",
       "\n",
       "    .dataframe tbody tr th {\n",
       "        vertical-align: top;\n",
       "    }\n",
       "\n",
       "    .dataframe thead th {\n",
       "        text-align: right;\n",
       "    }\n",
       "</style>\n",
       "<table border=\"1\" class=\"dataframe\">\n",
       "  <thead>\n",
       "    <tr style=\"text-align: right;\">\n",
       "      <th></th>\n",
       "      <th>Column</th>\n",
       "      <th>Imp value</th>\n",
       "    </tr>\n",
       "  </thead>\n",
       "  <tbody>\n",
       "    <tr>\n",
       "      <th>5</th>\n",
       "      <td>safety</td>\n",
       "      <td>0.244031</td>\n",
       "    </tr>\n",
       "    <tr>\n",
       "      <th>0</th>\n",
       "      <td>buying</td>\n",
       "      <td>0.219768</td>\n",
       "    </tr>\n",
       "    <tr>\n",
       "      <th>3</th>\n",
       "      <td>persons</td>\n",
       "      <td>0.194259</td>\n",
       "    </tr>\n",
       "    <tr>\n",
       "      <th>1</th>\n",
       "      <td>maint</td>\n",
       "      <td>0.182209</td>\n",
       "    </tr>\n",
       "    <tr>\n",
       "      <th>4</th>\n",
       "      <td>lug_boot</td>\n",
       "      <td>0.097727</td>\n",
       "    </tr>\n",
       "    <tr>\n",
       "      <th>2</th>\n",
       "      <td>doors</td>\n",
       "      <td>0.062006</td>\n",
       "    </tr>\n",
       "  </tbody>\n",
       "</table>\n",
       "</div>"
      ],
      "text/plain": [
       "     Column  Imp value\n",
       "5    safety   0.244031\n",
       "0    buying   0.219768\n",
       "3   persons   0.194259\n",
       "1     maint   0.182209\n",
       "4  lug_boot   0.097727\n",
       "2     doors   0.062006"
      ]
     },
     "execution_count": 26,
     "metadata": {},
     "output_type": "execute_result"
    }
   ],
   "source": [
    "sample=pd.DataFrame()\n",
    "\n",
    "sample[\"Column\"]=cars_train.columns[0:-1]\n",
    "sample[\"Imp value\"]=model_DecisionTree.feature_importances_\n",
    "\n",
    "sample.sort_values(\"Imp value\",ascending=False)\n",
    "#Checking importance of each variable in the dataset for building the model "
   ]
  },
  {
   "cell_type": "code",
   "execution_count": 27,
   "id": "d7f660b8",
   "metadata": {},
   "outputs": [],
   "source": [
    "from sklearn import tree\n",
    "with open(r\"model_DecisionTree.txt\", \"w\") as f:\n",
    "    \n",
    "    f = tree.export_graphviz(model_DecisionTree, feature_names=cars_train.columns[0:-1],\n",
    "                             out_file=f)\n",
    "    \n",
    "#generate the file and upload the code in webgraphviz.com to plot the decision tree"
   ]
  },
  {
   "cell_type": "code",
   "execution_count": 28,
   "id": "c64b3854",
   "metadata": {},
   "outputs": [
    {
     "data": {
      "text/plain": [
       "DecisionTreeClassifier(random_state=10)"
      ]
     },
     "execution_count": 28,
     "metadata": {},
     "output_type": "execute_result"
    }
   ],
   "source": [
    "model_DecisionTree"
   ]
  },
  {
   "cell_type": "code",
   "execution_count": 29,
   "id": "9de9c656",
   "metadata": {},
   "outputs": [],
   "source": [
    "from sklearn.tree import DecisionTreeClassifier\n",
    "from sklearn.svm import SVC\n",
    "from sklearn.neighbors import KNeighborsClassifier\n",
    "from sklearn.linear_model import LogisticRegression\n",
    " \n",
    "# first, initialize the classificators\n",
    "tree= DecisionTreeClassifier(random_state=10) # using the random state for reproducibility\n",
    "knn= KNeighborsClassifier(n_neighbors=5,metric='euclidean')\n",
    "svm= SVC(kernel=\"rbf\", gamma=0.1, C=90,random_state=10)\n",
    "logreg=LogisticRegression(multi_class=\"multinomial\",random_state=10)"
   ]
  },
  {
   "cell_type": "code",
   "execution_count": 30,
   "id": "8986339f",
   "metadata": {},
   "outputs": [],
   "source": [
    "# now, create a list with the objects \n",
    "models= [tree, knn, svm, logreg]"
   ]
  },
  {
   "cell_type": "code",
   "execution_count": 31,
   "id": "a31edf97",
   "metadata": {},
   "outputs": [
    {
     "name": "stdout",
     "output_type": "stream",
     "text": [
      "[[ 69   1   1   0]\n",
      " [  4   8   0   0]\n",
      " [  0   0 185   0]\n",
      " [  0   0   0   9]]\n",
      "The accuracy of the  DecisionTreeClassifier  model is  97.83393501805054\n",
      "Classification report:\n",
      "               precision    recall  f1-score   support\n",
      "\n",
      "           0       0.95      0.97      0.96        71\n",
      "           1       0.89      0.67      0.76        12\n",
      "           2       0.99      1.00      1.00       185\n",
      "           3       1.00      1.00      1.00         9\n",
      "\n",
      "    accuracy                           0.98       277\n",
      "   macro avg       0.96      0.91      0.93       277\n",
      "weighted avg       0.98      0.98      0.98       277\n",
      "\n",
      "\n",
      "\n",
      "[[ 65   1   5   0]\n",
      " [  8   4   0   0]\n",
      " [  1   0 184   0]\n",
      " [  2   0   1   6]]\n",
      "The accuracy of the  KNeighborsClassifier  model is  93.50180505415162\n",
      "Classification report:\n",
      "               precision    recall  f1-score   support\n",
      "\n",
      "           0       0.86      0.92      0.88        71\n",
      "           1       0.80      0.33      0.47        12\n",
      "           2       0.97      0.99      0.98       185\n",
      "           3       1.00      0.67      0.80         9\n",
      "\n",
      "    accuracy                           0.94       277\n",
      "   macro avg       0.91      0.73      0.78       277\n",
      "weighted avg       0.93      0.94      0.93       277\n",
      "\n",
      "\n",
      "\n",
      "[[ 69   0   2   0]\n",
      " [  2  10   0   0]\n",
      " [  0   0 185   0]\n",
      " [  0   0   0   9]]\n",
      "The accuracy of the  SVC  model is  98.55595667870037\n",
      "Classification report:\n",
      "               precision    recall  f1-score   support\n",
      "\n",
      "           0       0.97      0.97      0.97        71\n",
      "           1       1.00      0.83      0.91        12\n",
      "           2       0.99      1.00      0.99       185\n",
      "           3       1.00      1.00      1.00         9\n",
      "\n",
      "    accuracy                           0.99       277\n",
      "   macro avg       0.99      0.95      0.97       277\n",
      "weighted avg       0.99      0.99      0.99       277\n",
      "\n",
      "\n",
      "\n",
      "[[ 11   0  58   2]\n",
      " [  2   0  10   0]\n",
      " [ 18   0 167   0]\n",
      " [  6   0   2   1]]\n",
      "The accuracy of the  LogisticRegression  model is  64.62093862815884\n",
      "Classification report:\n",
      "               precision    recall  f1-score   support\n",
      "\n",
      "           0       0.30      0.15      0.20        71\n",
      "           1       0.00      0.00      0.00        12\n",
      "           2       0.70      0.90      0.79       185\n",
      "           3       0.33      0.11      0.17         9\n",
      "\n",
      "    accuracy                           0.65       277\n",
      "   macro avg       0.33      0.29      0.29       277\n",
      "weighted avg       0.56      0.65      0.59       277\n",
      "\n",
      "\n",
      "\n"
     ]
    }
   ],
   "source": [
    "from sklearn.metrics import confusion_matrix, accuracy_score,classification_report\n",
    " \n",
    "for model in models:\n",
    "    \n",
    "    model.fit(X_train, Y_train) # fit the model\n",
    "    Y_pred= model.predict(X_test) # then predict on the test set\n",
    "    accuracy= accuracy_score(Y_test, Y_pred) \n",
    "    clf_report= classification_report(Y_test, Y_pred)\n",
    "    \n",
    "    print(confusion_matrix(Y_test,Y_pred))\n",
    "    print(\"The accuracy of the \",type(model).__name__, \" model is \", accuracy*100 )\n",
    "    print(\"Classification report:\\n\", clf_report)\n",
    "    print(\"\\n\")"
   ]
  },
  {
   "cell_type": "code",
   "execution_count": null,
   "id": "ca9fb674",
   "metadata": {},
   "outputs": [],
   "source": []
  },
  {
   "cell_type": "code",
   "execution_count": 32,
   "id": "f96d05ae",
   "metadata": {},
   "outputs": [
    {
     "data": {
      "text/html": [
       "<div>\n",
       "<style scoped>\n",
       "    .dataframe tbody tr th:only-of-type {\n",
       "        vertical-align: middle;\n",
       "    }\n",
       "\n",
       "    .dataframe tbody tr th {\n",
       "        vertical-align: top;\n",
       "    }\n",
       "\n",
       "    .dataframe thead th {\n",
       "        text-align: right;\n",
       "    }\n",
       "</style>\n",
       "<table border=\"1\" class=\"dataframe\">\n",
       "  <thead>\n",
       "    <tr style=\"text-align: right;\">\n",
       "      <th></th>\n",
       "      <th>buying</th>\n",
       "      <th>maint</th>\n",
       "      <th>doors</th>\n",
       "      <th>persons</th>\n",
       "      <th>lug_boot</th>\n",
       "      <th>safety</th>\n",
       "    </tr>\n",
       "  </thead>\n",
       "  <tbody>\n",
       "    <tr>\n",
       "      <th>0</th>\n",
       "      <td>2</td>\n",
       "      <td>3</td>\n",
       "      <td>3</td>\n",
       "      <td>1</td>\n",
       "      <td>2</td>\n",
       "      <td>1</td>\n",
       "    </tr>\n",
       "    <tr>\n",
       "      <th>1</th>\n",
       "      <td>3</td>\n",
       "      <td>0</td>\n",
       "      <td>0</td>\n",
       "      <td>0</td>\n",
       "      <td>0</td>\n",
       "      <td>2</td>\n",
       "    </tr>\n",
       "    <tr>\n",
       "      <th>2</th>\n",
       "      <td>1</td>\n",
       "      <td>0</td>\n",
       "      <td>0</td>\n",
       "      <td>2</td>\n",
       "      <td>2</td>\n",
       "      <td>1</td>\n",
       "    </tr>\n",
       "    <tr>\n",
       "      <th>3</th>\n",
       "      <td>3</td>\n",
       "      <td>3</td>\n",
       "      <td>1</td>\n",
       "      <td>0</td>\n",
       "      <td>0</td>\n",
       "      <td>0</td>\n",
       "    </tr>\n",
       "    <tr>\n",
       "      <th>4</th>\n",
       "      <td>1</td>\n",
       "      <td>2</td>\n",
       "      <td>2</td>\n",
       "      <td>1</td>\n",
       "      <td>1</td>\n",
       "      <td>2</td>\n",
       "    </tr>\n",
       "  </tbody>\n",
       "</table>\n",
       "</div>"
      ],
      "text/plain": [
       "   buying  maint  doors  persons  lug_boot  safety\n",
       "0       2      3      3        1         2       1\n",
       "1       3      0      0        0         0       2\n",
       "2       1      0      0        2         2       1\n",
       "3       3      3      1        0         0       0\n",
       "4       1      2      2        1         1       2"
      ]
     },
     "execution_count": 32,
     "metadata": {},
     "output_type": "execute_result"
    }
   ],
   "source": [
    "cars_test.head()"
   ]
  },
  {
   "cell_type": "code",
   "execution_count": 33,
   "id": "ef0615bc",
   "metadata": {},
   "outputs": [
    {
     "name": "stdout",
     "output_type": "stream",
     "text": [
      "[[ 0.44373431  1.32688358  1.33418038 -0.01064285  1.22565305  0.00176987]\n",
      " [ 1.33507272 -1.3488262  -1.35232368 -1.23634431 -1.21505663  1.22474807]\n",
      " [-0.44760409 -1.3488262  -1.35232368  1.21505861  1.22565305  0.00176987]\n",
      " ...\n",
      " [ 0.44373431 -0.45692294 -0.45682233 -1.23634431  1.22565305 -1.22120833]\n",
      " [ 1.33507272  0.43498032 -1.35232368  1.21505861  1.22565305  0.00176987]\n",
      " [ 1.33507272 -1.3488262  -0.45682233 -0.01064285  1.22565305  1.22474807]]\n"
     ]
    }
   ],
   "source": [
    "test = cars_test.values\n",
    "test = scaler.transform(test)\n",
    "print(test)"
   ]
  },
  {
   "cell_type": "code",
   "execution_count": 34,
   "id": "cf1972d6",
   "metadata": {},
   "outputs": [
    {
     "data": {
      "text/plain": [
       "DecisionTreeClassifier(random_state=10)"
      ]
     },
     "execution_count": 34,
     "metadata": {},
     "output_type": "execute_result"
    }
   ],
   "source": [
    "#predicting using the Decision_Tree_Classifier\n",
    "from sklearn.tree import DecisionTreeClassifier\n",
    "\n",
    "model_DecisionTree = DecisionTreeClassifier(criterion='gini',random_state=10,splitter='best')    #best is used to get the homogeneous data and random will split the data randomly(length of tree could increase)\n",
    "\n",
    "#fitting the model and predicting the values\n",
    "model_DecisionTree.fit(X_train, Y_train)"
   ]
  },
  {
   "cell_type": "code",
   "execution_count": 35,
   "id": "b948ca5c",
   "metadata": {},
   "outputs": [
    {
     "data": {
      "text/plain": [
       "array([2, 2, 2, 2, 1, 2, 0, 0, 2, 0, 2, 2, 2, 2, 0, 0, 2, 2, 2, 2, 2, 2,\n",
       "       2, 2, 2, 2, 2, 0, 2, 2, 2, 2, 2, 0, 2, 2, 2, 2, 2, 0, 2, 2, 2, 3,\n",
       "       2, 0, 2, 2, 2, 2, 2, 0, 1, 3, 1, 2, 0, 2, 0, 2, 2, 2, 2, 3, 2, 2,\n",
       "       0, 0, 2, 2, 3, 2, 2, 2, 1, 2, 0, 3, 2, 2, 2, 2, 2, 2, 2, 2, 2, 0,\n",
       "       2, 0, 2, 2, 2, 2, 2, 2, 2, 2, 2, 2, 2, 2, 2, 2, 0, 2, 2, 2, 2, 2,\n",
       "       2, 2, 2, 2, 1, 2, 2, 0, 2, 2, 2, 2, 2, 2, 0, 2, 2, 2, 2, 2, 2, 2,\n",
       "       2, 2, 0, 2, 2, 3, 2, 2, 0, 2, 0, 3, 2, 2, 2, 2, 2, 2, 2, 2, 3, 2,\n",
       "       2, 2, 2, 2, 1, 1, 2, 2, 2, 2, 2, 2, 2, 2, 2, 2, 2, 0, 2, 3, 2, 2,\n",
       "       2, 2, 0, 0, 2, 2, 2, 2, 3, 2, 0, 2, 1, 0, 2, 2, 2, 2, 2, 3, 0, 0,\n",
       "       2, 2, 2, 2, 0, 2, 2, 2, 2, 2, 2, 2, 3, 0, 2, 2, 2, 3, 2, 2, 0, 2,\n",
       "       2, 2, 2, 2, 2, 2, 0, 2, 2, 2, 2, 2, 0, 0, 2, 2, 2, 2, 3, 2, 2, 0,\n",
       "       2, 0, 2, 0, 2, 2, 2, 2, 2, 0, 2, 2, 2, 0, 2, 2, 0, 2, 2, 2, 0, 2,\n",
       "       2, 2, 0, 2, 2, 0, 2, 2, 2, 1, 1, 2, 2, 2, 0, 2, 2, 0, 3, 3, 0, 2,\n",
       "       0, 2, 2, 2, 3, 2, 2, 0, 2, 2, 2, 2, 2, 0, 2, 2, 2, 3, 2, 2, 2, 0,\n",
       "       2, 2, 2, 2, 0, 0, 2, 2, 1, 2, 2, 2, 0, 2, 2, 0, 0, 2, 0, 0, 2, 2,\n",
       "       0, 0, 2, 2, 2, 2, 2, 0, 2, 2, 2, 0, 2, 2, 2, 2])"
      ]
     },
     "execution_count": 35,
     "metadata": {},
     "output_type": "execute_result"
    }
   ],
   "source": [
    "test_pred = model_DecisionTree.predict(test)\n",
    "test_pred"
   ]
  },
  {
   "cell_type": "code",
   "execution_count": 36,
   "id": "ee076ef1",
   "metadata": {},
   "outputs": [
    {
     "data": {
      "text/html": [
       "<div>\n",
       "<style scoped>\n",
       "    .dataframe tbody tr th:only-of-type {\n",
       "        vertical-align: middle;\n",
       "    }\n",
       "\n",
       "    .dataframe tbody tr th {\n",
       "        vertical-align: top;\n",
       "    }\n",
       "\n",
       "    .dataframe thead th {\n",
       "        text-align: right;\n",
       "    }\n",
       "</style>\n",
       "<table border=\"1\" class=\"dataframe\">\n",
       "  <thead>\n",
       "    <tr style=\"text-align: right;\">\n",
       "      <th></th>\n",
       "      <th>buying</th>\n",
       "      <th>maint</th>\n",
       "      <th>doors</th>\n",
       "      <th>persons</th>\n",
       "      <th>lug_boot</th>\n",
       "      <th>safety</th>\n",
       "      <th>classes</th>\n",
       "      <th>Pred</th>\n",
       "    </tr>\n",
       "  </thead>\n",
       "  <tbody>\n",
       "    <tr>\n",
       "      <th>0</th>\n",
       "      <td>med</td>\n",
       "      <td>vhigh</td>\n",
       "      <td>5more</td>\n",
       "      <td>4</td>\n",
       "      <td>small</td>\n",
       "      <td>low</td>\n",
       "      <td>unacc</td>\n",
       "      <td>unacc</td>\n",
       "    </tr>\n",
       "    <tr>\n",
       "      <th>1</th>\n",
       "      <td>vhigh</td>\n",
       "      <td>high</td>\n",
       "      <td>2</td>\n",
       "      <td>2</td>\n",
       "      <td>big</td>\n",
       "      <td>med</td>\n",
       "      <td>unacc</td>\n",
       "      <td>unacc</td>\n",
       "    </tr>\n",
       "    <tr>\n",
       "      <th>2</th>\n",
       "      <td>low</td>\n",
       "      <td>high</td>\n",
       "      <td>2</td>\n",
       "      <td>more</td>\n",
       "      <td>small</td>\n",
       "      <td>low</td>\n",
       "      <td>unacc</td>\n",
       "      <td>unacc</td>\n",
       "    </tr>\n",
       "    <tr>\n",
       "      <th>3</th>\n",
       "      <td>vhigh</td>\n",
       "      <td>vhigh</td>\n",
       "      <td>3</td>\n",
       "      <td>2</td>\n",
       "      <td>big</td>\n",
       "      <td>high</td>\n",
       "      <td>unacc</td>\n",
       "      <td>unacc</td>\n",
       "    </tr>\n",
       "    <tr>\n",
       "      <th>4</th>\n",
       "      <td>low</td>\n",
       "      <td>med</td>\n",
       "      <td>4</td>\n",
       "      <td>4</td>\n",
       "      <td>med</td>\n",
       "      <td>med</td>\n",
       "      <td>good</td>\n",
       "      <td>good</td>\n",
       "    </tr>\n",
       "  </tbody>\n",
       "</table>\n",
       "</div>"
      ],
      "text/plain": [
       "  buying  maint  doors persons lug_boot safety classes   Pred\n",
       "0    med  vhigh  5more       4    small    low   unacc  unacc\n",
       "1  vhigh   high      2       2      big    med   unacc  unacc\n",
       "2    low   high      2    more    small    low   unacc  unacc\n",
       "3  vhigh  vhigh      3       2      big   high   unacc  unacc\n",
       "4    low    med      4       4      med    med    good   good"
      ]
     },
     "execution_count": 36,
     "metadata": {},
     "output_type": "execute_result"
    }
   ],
   "source": [
    "cars_test = pd.read_csv(r\"cars_test.csv\",header=None)\n",
    "cars_test.columns=['buying','maint','doors','persons',\n",
    "                   'lug_boot','safety','classes']\n",
    "cars_test[\"Pred\"]=test_pred\n",
    "cars_test[\"Pred\"]=cars_test[\"Pred\"].replace({0:\"acc\",1:\"good\",2:\"unacc\",\n",
    "                                         3:\"vgood\"})\n",
    "cars_test.head()"
   ]
  },
  {
   "cell_type": "code",
   "execution_count": 37,
   "id": "a2ab7a7f",
   "metadata": {},
   "outputs": [
    {
     "name": "stdout",
     "output_type": "stream",
     "text": [
      "cfm : [[ 60   1   3   0]\n",
      " [  3  10   0   0]\n",
      " [  0   0 251   0]\n",
      " [  0   0   0  18]]\n",
      "\n",
      "Classification report :\n",
      "              precision    recall  f1-score   support\n",
      "\n",
      "         acc       0.95      0.94      0.94        64\n",
      "        good       0.91      0.77      0.83        13\n",
      "       unacc       0.99      1.00      0.99       251\n",
      "       vgood       1.00      1.00      1.00        18\n",
      "\n",
      "    accuracy                           0.98       346\n",
      "   macro avg       0.96      0.93      0.94       346\n",
      "weighted avg       0.98      0.98      0.98       346\n",
      "\n",
      "Accuracy of the model : 0.9797687861271677\n"
     ]
    }
   ],
   "source": [
    "from sklearn.metrics import confusion_matrix, accuracy_score, classification_report\n",
    "\n",
    "cfm = confusion_matrix(cars_test.classes, cars_test.Pred)\n",
    "print(\"cfm :\",cfm)\n",
    "print()\n",
    "print(\"Classification report :\")\n",
    "print(classification_report(cars_test.classes, cars_test.Pred))\n",
    "\n",
    "acc = accuracy_score(cars_test.classes, cars_test.Pred)\n",
    "print(\"Accuracy of the model :\",acc)"
   ]
  },
  {
   "cell_type": "code",
   "execution_count": 38,
   "id": "e34918e4",
   "metadata": {},
   "outputs": [],
   "source": [
    "cars_test.to_excel(\"Decision_Tree Test outplut.xlsx\",header=True)"
   ]
  },
  {
   "cell_type": "markdown",
   "id": "94e4c0a9",
   "metadata": {},
   "source": [
    "## Predicting the random_forest_classifier "
   ]
  },
  {
   "cell_type": "code",
   "execution_count": 39,
   "id": "95639b00",
   "metadata": {},
   "outputs": [],
   "source": [
    "#predicting the random_forest_classifier \n",
    "from sklearn.ensemble import RandomForestClassifier\n",
    "\n",
    "model_RandomForest = RandomForestClassifier (n_estimators=100,\n",
    "                                            random_state=10, bootstrap=True,\n",
    "                                            n_jobs=-1)\n",
    "\n",
    "#fit the model on the data and predict the values\n",
    "model_RandomForest.fit(X_train,Y_train)\n",
    "\n",
    "Y_pred=model_RandomForest.predict(X_test)"
   ]
  },
  {
   "cell_type": "code",
   "execution_count": 40,
   "id": "5acfff90",
   "metadata": {},
   "outputs": [
    {
     "name": "stdout",
     "output_type": "stream",
     "text": [
      "Confusion matrix by Log Reg:\n",
      "[[ 65   1   5   0]\n",
      " [  4   8   0   0]\n",
      " [  1   0 184   0]\n",
      " [  0   0   0   9]]\n",
      "Classfication rep by Log reg:\n",
      "              precision    recall  f1-score   support\n",
      "\n",
      "           0       0.93      0.92      0.92        71\n",
      "           1       0.89      0.67      0.76        12\n",
      "           2       0.97      0.99      0.98       185\n",
      "           3       1.00      1.00      1.00         9\n",
      "\n",
      "    accuracy                           0.96       277\n",
      "   macro avg       0.95      0.89      0.92       277\n",
      "weighted avg       0.96      0.96      0.96       277\n",
      "\n",
      "Accuracy score by Log reg: 0.9602888086642599\n"
     ]
    }
   ],
   "source": [
    "from sklearn.metrics import confusion_matrix,accuracy_score,classification_report\n",
    "cfmlr=confusion_matrix(Y_test,Y_pred)\n",
    "print(\"Confusion matrix by Log Reg:\")\n",
    "print(cfmlr)\n",
    "class_rlr=classification_report(Y_test,Y_pred)\n",
    "print(\"Classfication rep by Log reg:\")\n",
    "print(class_rlr)\n",
    "acc_slr=accuracy_score(Y_test,Y_pred)\n",
    "print(\"Accuracy score by Log reg:\",acc_slr)"
   ]
  },
  {
   "cell_type": "code",
   "execution_count": 41,
   "id": "40c45f50",
   "metadata": {},
   "outputs": [],
   "source": [
    "#predicting the random_forest_classifier \n",
    "from sklearn.ensemble import RandomForestClassifier\n",
    "\n",
    "model_RandomForest = RandomForestClassifier (n_estimators=100,\n",
    "                                            random_state=10, bootstrap=True,\n",
    "                                            n_jobs=-1)\n",
    "\n",
    "#fit the model on the data and predict the values\n",
    "model_RandomForest.fit(X_train,Y_train)\n",
    "\n",
    "Y_pred=model_RandomForest.predict(X_test)"
   ]
  },
  {
   "cell_type": "code",
   "execution_count": 42,
   "id": "5d4198b1",
   "metadata": {},
   "outputs": [],
   "source": [
    "from sklearn.ensemble import ExtraTreesClassifier\n",
    " \n",
    "model_EXT=ExtraTreesClassifier( random_state=10, bootstrap=True)\n",
    " \n",
    "parameter_space = {\n",
    "    'n_estimators':[100,200,300,400,500],\n",
    "    'max_depth':[10,15, 8, 12]\n",
    "    }\n",
    "from sklearn.model_selection import GridSearchCV\n",
    "clf = GridSearchCV(model_EXT, parameter_space, n_jobs=-1, cv=5)"
   ]
  },
  {
   "cell_type": "code",
   "execution_count": 43,
   "id": "7d6078fb",
   "metadata": {},
   "outputs": [
    {
     "data": {
      "text/plain": [
       "GridSearchCV(cv=5,\n",
       "             estimator=ExtraTreesClassifier(bootstrap=True, random_state=10),\n",
       "             n_jobs=-1,\n",
       "             param_grid={'max_depth': [10, 15, 8, 12],\n",
       "                         'n_estimators': [100, 200, 300, 400, 500]})"
      ]
     },
     "execution_count": 43,
     "metadata": {},
     "output_type": "execute_result"
    }
   ],
   "source": [
    "clf.fit(X_train,Y_train)"
   ]
  },
  {
   "cell_type": "code",
   "execution_count": 44,
   "id": "a974426e",
   "metadata": {},
   "outputs": [
    {
     "name": "stdout",
     "output_type": "stream",
     "text": [
      "Best Parameter::> {'max_depth': 12, 'n_estimators': 100}\n"
     ]
    }
   ],
   "source": [
    "print('Best Parameter::>',clf.best_params_)"
   ]
  },
  {
   "cell_type": "code",
   "execution_count": 45,
   "id": "fa02b7ff",
   "metadata": {},
   "outputs": [],
   "source": [
    "model_EXT.fit(X_train,Y_train)\n",
    "Y_pred=model_EXT.predict(X_test)"
   ]
  },
  {
   "cell_type": "code",
   "execution_count": 46,
   "id": "0f9e01c1",
   "metadata": {},
   "outputs": [
    {
     "name": "stdout",
     "output_type": "stream",
     "text": [
      "Confusion matrix by Log Reg:\n",
      "[[ 64   0   7   0]\n",
      " [  8   4   0   0]\n",
      " [  2   0 183   0]\n",
      " [  2   0   0   7]]\n",
      "Classfication rep by Log reg:\n",
      "              precision    recall  f1-score   support\n",
      "\n",
      "           0       0.84      0.90      0.87        71\n",
      "           1       1.00      0.33      0.50        12\n",
      "           2       0.96      0.99      0.98       185\n",
      "           3       1.00      0.78      0.88         9\n",
      "\n",
      "    accuracy                           0.93       277\n",
      "   macro avg       0.95      0.75      0.81       277\n",
      "weighted avg       0.93      0.93      0.93       277\n",
      "\n",
      "Accuracy score by Log reg: 0.9314079422382672\n"
     ]
    }
   ],
   "source": [
    "from sklearn.metrics import confusion_matrix,accuracy_score,classification_report\n",
    "cfmlr=confusion_matrix(Y_test,Y_pred)\n",
    "print(\"Confusion matrix by Log Reg:\")\n",
    "print(cfmlr)\n",
    "class_rlr=classification_report(Y_test,Y_pred)\n",
    "print(\"Classfication rep by Log reg:\")\n",
    "print(class_rlr)\n",
    "acc_slr=accuracy_score(Y_test,Y_pred)\n",
    "print(\"Accuracy score by Log reg:\",acc_slr)"
   ]
  },
  {
   "cell_type": "code",
   "execution_count": 47,
   "id": "ba040b38",
   "metadata": {},
   "outputs": [],
   "source": [
    "#predicting using the Adaboost_Classifier\n",
    "from sklearn.ensemble import AdaBoostClassifier\n",
    " \n",
    "model_AdaBoost=AdaBoostClassifier(base_estimator=DecisionTreeClassifier(random_state=10),\n",
    "                                 n_estimators=100,random_state=10)\n",
    "#fit the model on the data and predict the values\n",
    "model_AdaBoost.fit(X_train,Y_train)\n",
    "Y_pred=model_AdaBoost.predict(X_test)"
   ]
  },
  {
   "cell_type": "code",
   "execution_count": 48,
   "id": "ae5c0fae",
   "metadata": {},
   "outputs": [
    {
     "name": "stdout",
     "output_type": "stream",
     "text": [
      "Confusion matrix by Log Reg:\n",
      "[[ 69   1   1   0]\n",
      " [  4   8   0   0]\n",
      " [  0   0 185   0]\n",
      " [  0   0   0   9]]\n",
      "Classfication rep by Log reg:\n",
      "              precision    recall  f1-score   support\n",
      "\n",
      "           0       0.95      0.97      0.96        71\n",
      "           1       0.89      0.67      0.76        12\n",
      "           2       0.99      1.00      1.00       185\n",
      "           3       1.00      1.00      1.00         9\n",
      "\n",
      "    accuracy                           0.98       277\n",
      "   macro avg       0.96      0.91      0.93       277\n",
      "weighted avg       0.98      0.98      0.98       277\n",
      "\n",
      "Accuracy score by Log reg: 0.9783393501805054\n"
     ]
    }
   ],
   "source": [
    "from sklearn.metrics import confusion_matrix,accuracy_score,classification_report\n",
    "cfmlr=confusion_matrix(Y_test,Y_pred)\n",
    "print(\"Confusion matrix by Log Reg:\")\n",
    "print(cfmlr)\n",
    "class_rlr=classification_report(Y_test,Y_pred)\n",
    "print(\"Classfication rep by Log reg:\")\n",
    "print(class_rlr)\n",
    "acc_slr=accuracy_score(Y_test,Y_pred)\n",
    "print(\"Accuracy score by Log reg:\",acc_slr)"
   ]
  },
  {
   "cell_type": "code",
   "execution_count": 49,
   "id": "04a84433",
   "metadata": {},
   "outputs": [],
   "source": [
    "#predicting using the Gradient_Boosting_Classifier\n",
    "from sklearn.ensemble import GradientBoostingClassifier\n",
    " \n",
    "model_GradientBoosting=GradientBoostingClassifier(n_estimators=300,random_state=10)\n",
    "#fit the model on the data and predict the values\n",
    "model_GradientBoosting.fit(X_train,Y_train)\n",
    "Y_pred=model_GradientBoosting.predict(X_test)"
   ]
  },
  {
   "cell_type": "code",
   "execution_count": 50,
   "id": "a87a0ec8",
   "metadata": {},
   "outputs": [
    {
     "name": "stdout",
     "output_type": "stream",
     "text": [
      "Confusion matrix by Log Reg:\n",
      "[[ 71   0   0   0]\n",
      " [  1  11   0   0]\n",
      " [  0   0 185   0]\n",
      " [  0   0   0   9]]\n",
      "Classfication rep by Log reg:\n",
      "              precision    recall  f1-score   support\n",
      "\n",
      "           0       0.99      1.00      0.99        71\n",
      "           1       1.00      0.92      0.96        12\n",
      "           2       1.00      1.00      1.00       185\n",
      "           3       1.00      1.00      1.00         9\n",
      "\n",
      "    accuracy                           1.00       277\n",
      "   macro avg       1.00      0.98      0.99       277\n",
      "weighted avg       1.00      1.00      1.00       277\n",
      "\n",
      "Accuracy score by Log reg: 0.9963898916967509\n"
     ]
    }
   ],
   "source": [
    "from sklearn.metrics import confusion_matrix,accuracy_score,classification_report\n",
    "cfmlr=confusion_matrix(Y_test,Y_pred)\n",
    "print(\"Confusion matrix by Log Reg:\")\n",
    "print(cfmlr)\n",
    "class_rlr=classification_report(Y_test,Y_pred)\n",
    "print(\"Classfication rep by Log reg:\")\n",
    "print(class_rlr)\n",
    "acc_slr=accuracy_score(Y_test,Y_pred)\n",
    "print(\"Accuracy score by Log reg:\",acc_slr)"
   ]
  },
  {
   "cell_type": "code",
   "execution_count": 51,
   "id": "e7bf3b3f",
   "metadata": {},
   "outputs": [
    {
     "name": "stdout",
     "output_type": "stream",
     "text": [
      "Requirement already satisfied: XGBoost in c:\\users\\shreyas\\anaconda3\\lib\\site-packages (1.7.3)\n",
      "Requirement already satisfied: numpy in c:\\users\\shreyas\\anaconda3\\lib\\site-packages (from XGBoost) (1.21.5)\n",
      "Requirement already satisfied: scipy in c:\\users\\shreyas\\anaconda3\\lib\\site-packages (from XGBoost) (1.7.3)\n"
     ]
    }
   ],
   "source": [
    "!pip install XGBoost"
   ]
  },
  {
   "cell_type": "code",
   "execution_count": 52,
   "id": "d1053f61",
   "metadata": {},
   "outputs": [],
   "source": [
    "## Running XGBoost\n",
    "from xgboost import XGBClassifier\n",
    "\n",
    "model_GradientBoosting = XGBClassifier(n_estimators=100,random_state=10)\n",
    "\n",
    "#fit the model on the data and predict the values \n",
    "model_GradientBoosting.fit(X_train,Y_train)\n",
    "\n",
    "Y_pred= model_GradientBoosting.predict(X_test)"
   ]
  },
  {
   "cell_type": "code",
   "execution_count": 53,
   "id": "c904ba0e",
   "metadata": {},
   "outputs": [
    {
     "name": "stdout",
     "output_type": "stream",
     "text": [
      "Requirement already satisfied: xgboost in c:\\users\\shreyas\\anaconda3\\lib\\site-packages (1.7.3)\n",
      "Requirement already satisfied: numpy in c:\\users\\shreyas\\anaconda3\\lib\\site-packages (from xgboost) (1.21.5)\n",
      "Requirement already satisfied: scipy in c:\\users\\shreyas\\anaconda3\\lib\\site-packages (from xgboost) (1.7.3)\n"
     ]
    }
   ],
   "source": [
    "!pip install xgboost"
   ]
  },
  {
   "cell_type": "code",
   "execution_count": 54,
   "id": "74e78483",
   "metadata": {},
   "outputs": [
    {
     "name": "stdout",
     "output_type": "stream",
     "text": [
      "Confusion matrix by Log Reg:\n",
      "[[ 69   1   1   0]\n",
      " [  3   9   0   0]\n",
      " [  0   0 185   0]\n",
      " [  0   0   0   9]]\n",
      "Classfication rep by Log reg:\n",
      "              precision    recall  f1-score   support\n",
      "\n",
      "           0       0.96      0.97      0.97        71\n",
      "           1       0.90      0.75      0.82        12\n",
      "           2       0.99      1.00      1.00       185\n",
      "           3       1.00      1.00      1.00         9\n",
      "\n",
      "    accuracy                           0.98       277\n",
      "   macro avg       0.96      0.93      0.95       277\n",
      "weighted avg       0.98      0.98      0.98       277\n",
      "\n",
      "Accuracy score by Log reg: 0.9819494584837545\n"
     ]
    }
   ],
   "source": [
    "from sklearn.metrics import confusion_matrix,accuracy_score,classification_report\n",
    "cfmlr=confusion_matrix(Y_test,Y_pred)\n",
    "print(\"Confusion matrix by Log Reg:\")\n",
    "print(cfmlr)\n",
    "class_rlr=classification_report(Y_test,Y_pred)\n",
    "print(\"Classfication rep by Log reg:\")\n",
    "print(class_rlr)\n",
    "acc_slr=accuracy_score(Y_test,Y_pred)\n",
    "print(\"Accuracy score by Log reg:\",acc_slr)"
   ]
  },
  {
   "cell_type": "markdown",
   "id": "51c7fe34",
   "metadata": {},
   "source": [
    "## Ensemble Model"
   ]
  },
  {
   "cell_type": "code",
   "execution_count": 55,
   "id": "f04b4735",
   "metadata": {},
   "outputs": [],
   "source": [
    "from sklearn.linear_model import LogisticRegression\n",
    "from sklearn.tree import DecisionTreeClassifier\n",
    "from sklearn.svm import SVC\n",
    "from sklearn.ensemble import VotingClassifier\n",
    "from sklearn.neighbors import KNeighborsClassifier\n",
    " \n",
    "# create the sub models\n",
    "estimators = []\n",
    "#model1 = LogisticRegression()\n",
    "#estimators.append(('log', model1))\n",
    "model2 = DecisionTreeClassifier(criterion='gini',random_state=10)\n",
    "estimators.append(('cart', model2))\n",
    "model3 = SVC(kernel=\"rbf\", C=90,gamma=0.1)\n",
    "estimators.append(('svm', model3))\n",
    "model4 = KNeighborsClassifier(n_neighbors=5, metric='euclidean')\n",
    "estimators.append(('knn', model4))\n",
    " \n",
    " \n",
    "# create the ensemble model\n",
    "ensemble = VotingClassifier(estimators)\n",
    "ensemble.fit(X_train,Y_train)\n",
    "Y_pred=ensemble.predict(X_test)\n",
    "#print(Y_pred)"
   ]
  },
  {
   "cell_type": "code",
   "execution_count": 56,
   "id": "6e938e67",
   "metadata": {},
   "outputs": [
    {
     "name": "stdout",
     "output_type": "stream",
     "text": [
      "Confusion matrix by Log Reg:\n",
      "[[ 69   0   2   0]\n",
      " [  4   8   0   0]\n",
      " [  0   0 185   0]\n",
      " [  0   0   0   9]]\n",
      "Classfication rep by Log reg:\n",
      "              precision    recall  f1-score   support\n",
      "\n",
      "           0       0.95      0.97      0.96        71\n",
      "           1       1.00      0.67      0.80        12\n",
      "           2       0.99      1.00      0.99       185\n",
      "           3       1.00      1.00      1.00         9\n",
      "\n",
      "    accuracy                           0.98       277\n",
      "   macro avg       0.98      0.91      0.94       277\n",
      "weighted avg       0.98      0.98      0.98       277\n",
      "\n",
      "Accuracy score by Log reg: 0.9783393501805054\n"
     ]
    }
   ],
   "source": [
    "from sklearn.metrics import confusion_matrix,accuracy_score,classification_report\n",
    "cfmlr=confusion_matrix(Y_test,Y_pred)\n",
    "print(\"Confusion matrix by Log Reg:\")\n",
    "print(cfmlr)\n",
    "class_rlr=classification_report(Y_test,Y_pred)\n",
    "print(\"Classfication rep by Log reg:\")\n",
    "print(class_rlr)\n",
    "acc_slr=accuracy_score(Y_test,Y_pred)\n",
    "print(\"Accuracy score by Log reg:\",acc_slr)"
   ]
  },
  {
   "cell_type": "code",
   "execution_count": 57,
   "id": "401db5c7",
   "metadata": {},
   "outputs": [],
   "source": [
    "from sklearn.linear_model import LogisticRegression\n",
    "from sklearn.tree import DecisionTreeClassifier\n",
    "from sklearn.svm import SVC\n",
    "from sklearn.ensemble import StackingClassifier\n",
    "from sklearn.neighbors import KNeighborsClassifier\n",
    " \n",
    "# create the sub models\n",
    "level0 = []\n",
    "model1 = LogisticRegression()\n",
    "level0.append(('log', model1))\n",
    "model2 = DecisionTreeClassifier(criterion='gini',random_state=10)\n",
    "level0.append(('cart', model2))\n",
    "model3 = SVC(kernel=\"rbf\", C=90,gamma=0.1)\n",
    "level0.append(('svm', model3))\n",
    "model4 = KNeighborsClassifier(n_neighbors=5, metric='euclidean')\n",
    "level0.append(('knn', model4))\n",
    " \n",
    "level1=LogisticRegression()\n",
    " \n",
    "# create the ensemble model\n",
    "ensemble = StackingClassifier(estimators=level0, final_estimator=level1,\n",
    "                              cv=5,passthrough=False)   \n",
    "ensemble.fit(X_train,Y_train)\n",
    "Y_pred=ensemble.predict(X_test)\n",
    "#print(Y_pred)\n",
    "#passthrough - It will only learn on the combination of the predictions,if true will learn on the whole model\n",
    "#Bcuase we building Linear Regression model too passthrough true not required"
   ]
  },
  {
   "cell_type": "code",
   "execution_count": 58,
   "id": "76912424",
   "metadata": {},
   "outputs": [
    {
     "name": "stdout",
     "output_type": "stream",
     "text": [
      "Confusion matrix by Log Reg:\n",
      "[[ 69   0   2   0]\n",
      " [  2  10   0   0]\n",
      " [  0   0 185   0]\n",
      " [  0   0   0   9]]\n",
      "Classfication rep by Log reg:\n",
      "              precision    recall  f1-score   support\n",
      "\n",
      "           0       0.97      0.97      0.97        71\n",
      "           1       1.00      0.83      0.91        12\n",
      "           2       0.99      1.00      0.99       185\n",
      "           3       1.00      1.00      1.00         9\n",
      "\n",
      "    accuracy                           0.99       277\n",
      "   macro avg       0.99      0.95      0.97       277\n",
      "weighted avg       0.99      0.99      0.99       277\n",
      "\n",
      "Accuracy score by Log reg: 0.9855595667870036\n"
     ]
    }
   ],
   "source": [
    "from sklearn.metrics import confusion_matrix,accuracy_score,classification_report\n",
    "cfmlr=confusion_matrix(Y_test,Y_pred)\n",
    "print(\"Confusion matrix by Log Reg:\")\n",
    "print(cfmlr)\n",
    "class_rlr=classification_report(Y_test,Y_pred)\n",
    "print(\"Classfication rep by Log reg:\")\n",
    "print(class_rlr)\n",
    "acc_slr=accuracy_score(Y_test,Y_pred)\n",
    "print(\"Accuracy score by Log reg:\",acc_slr)"
   ]
  },
  {
   "cell_type": "code",
   "execution_count": null,
   "id": "bddeadad",
   "metadata": {},
   "outputs": [],
   "source": []
  }
 ],
 "metadata": {
  "kernelspec": {
   "display_name": "Python 3 (ipykernel)",
   "language": "python",
   "name": "python3"
  },
  "language_info": {
   "codemirror_mode": {
    "name": "ipython",
    "version": 3
   },
   "file_extension": ".py",
   "mimetype": "text/x-python",
   "name": "python",
   "nbconvert_exporter": "python",
   "pygments_lexer": "ipython3",
   "version": "3.9.12"
  }
 },
 "nbformat": 4,
 "nbformat_minor": 5
}
